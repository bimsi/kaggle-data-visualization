{
 "cells": [
  {
   "cell_type": "markdown",
   "id": "1809941d",
   "metadata": {
    "papermill": {
     "duration": 0.012706,
     "end_time": "2023-12-13T06:57:40.531300",
     "exception": false,
     "start_time": "2023-12-13T06:57:40.518594",
     "status": "completed"
    },
    "tags": []
   },
   "source": [
    "**This notebook is an exercise in the [Data Visualization](https://www.kaggle.com/learn/data-visualization) course.  You can reference the tutorial at [this link](https://www.kaggle.com/alexisbcook/scatter-plots).**\n",
    "\n",
    "---\n"
   ]
  },
  {
   "cell_type": "markdown",
   "id": "19535553",
   "metadata": {
    "papermill": {
     "duration": 0.011589,
     "end_time": "2023-12-13T06:57:40.555158",
     "exception": false,
     "start_time": "2023-12-13T06:57:40.543569",
     "status": "completed"
    },
    "tags": []
   },
   "source": [
    "In this exercise, you will use your new knowledge to propose a solution to a real-world scenario.  To succeed, you will need to import data into Python, answer questions using the data, and generate **scatter plots** to understand patterns in the data.\n",
    "\n",
    "## Scenario\n",
    "\n",
    "You work for a major candy producer, and your goal is to write a report that your company can use to guide the design of its next product.  Soon after starting your research, you stumble across this [very interesting dataset](https://fivethirtyeight.com/features/the-ultimate-halloween-candy-power-ranking/) containing results from a fun survey to crowdsource favorite candies.\n",
    "\n",
    "## Setup\n",
    "\n",
    "Run the next cell to import and configure the Python libraries that you need to complete the exercise."
   ]
  },
  {
   "cell_type": "code",
   "execution_count": 1,
   "id": "3da6ef99",
   "metadata": {
    "execution": {
     "iopub.execute_input": "2023-12-13T06:57:40.582234Z",
     "iopub.status.busy": "2023-12-13T06:57:40.581047Z",
     "iopub.status.idle": "2023-12-13T06:57:42.597556Z",
     "shell.execute_reply": "2023-12-13T06:57:42.596258Z"
    },
    "papermill": {
     "duration": 2.033018,
     "end_time": "2023-12-13T06:57:42.600245",
     "exception": false,
     "start_time": "2023-12-13T06:57:40.567227",
     "status": "completed"
    },
    "tags": []
   },
   "outputs": [
    {
     "name": "stdout",
     "output_type": "stream",
     "text": [
      "Setup Complete\n"
     ]
    }
   ],
   "source": [
    "import pandas as pd\n",
    "pd.plotting.register_matplotlib_converters()\n",
    "import matplotlib.pyplot as plt\n",
    "%matplotlib inline\n",
    "import seaborn as sns\n",
    "print(\"Setup Complete\")"
   ]
  },
  {
   "cell_type": "markdown",
   "id": "1bb076c4",
   "metadata": {
    "papermill": {
     "duration": 0.011976,
     "end_time": "2023-12-13T06:57:42.625371",
     "exception": false,
     "start_time": "2023-12-13T06:57:42.613395",
     "status": "completed"
    },
    "tags": []
   },
   "source": [
    "The questions below will give you feedback on your work. Run the following cell to set up our feedback system."
   ]
  },
  {
   "cell_type": "code",
   "execution_count": 2,
   "id": "7e17688c",
   "metadata": {
    "execution": {
     "iopub.execute_input": "2023-12-13T06:57:42.652916Z",
     "iopub.status.busy": "2023-12-13T06:57:42.651841Z",
     "iopub.status.idle": "2023-12-13T06:57:42.730866Z",
     "shell.execute_reply": "2023-12-13T06:57:42.729668Z"
    },
    "papermill": {
     "duration": 0.096091,
     "end_time": "2023-12-13T06:57:42.733773",
     "exception": false,
     "start_time": "2023-12-13T06:57:42.637682",
     "status": "completed"
    },
    "tags": []
   },
   "outputs": [
    {
     "name": "stdout",
     "output_type": "stream",
     "text": [
      "Setup Complete\n"
     ]
    }
   ],
   "source": [
    "# Set up code checking\n",
    "import os\n",
    "if not os.path.exists(\"../input/candy.csv\"):\n",
    "    os.symlink(\"../input/data-for-datavis/candy.csv\", \"../input/candy.csv\") \n",
    "from learntools.core import binder\n",
    "binder.bind(globals())\n",
    "from learntools.data_viz_to_coder.ex4 import *\n",
    "print(\"Setup Complete\")"
   ]
  },
  {
   "cell_type": "markdown",
   "id": "0c950afe",
   "metadata": {
    "papermill": {
     "duration": 0.012028,
     "end_time": "2023-12-13T06:57:42.758457",
     "exception": false,
     "start_time": "2023-12-13T06:57:42.746429",
     "status": "completed"
    },
    "tags": []
   },
   "source": [
    "## Step 1: Load the Data\n",
    "\n",
    "Read the candy data file into `candy_data`.  Use the `\"id\"` column to label the rows."
   ]
  },
  {
   "cell_type": "code",
   "execution_count": 3,
   "id": "7da0b0b8",
   "metadata": {
    "execution": {
     "iopub.execute_input": "2023-12-13T06:57:42.785689Z",
     "iopub.status.busy": "2023-12-13T06:57:42.785238Z",
     "iopub.status.idle": "2023-12-13T06:57:42.804797Z",
     "shell.execute_reply": "2023-12-13T06:57:42.803580Z"
    },
    "papermill": {
     "duration": 0.037007,
     "end_time": "2023-12-13T06:57:42.807709",
     "exception": false,
     "start_time": "2023-12-13T06:57:42.770702",
     "status": "completed"
    },
    "tags": []
   },
   "outputs": [
    {
     "data": {
      "application/javascript": [
       "parent.postMessage({\"jupyterEvent\": \"custom.exercise_interaction\", \"data\": {\"outcomeType\": 1, \"valueTowardsCompletion\": 0.3333333333333333, \"interactionType\": 1, \"questionType\": 1, \"questionId\": \"1_LoadData\", \"learnToolsVersion\": \"0.3.4\", \"failureMessage\": \"\", \"exceptionClass\": \"\", \"trace\": \"\"}}, \"*\")"
      ],
      "text/plain": [
       "<IPython.core.display.Javascript object>"
      ]
     },
     "metadata": {},
     "output_type": "display_data"
    },
    {
     "data": {
      "text/markdown": [
       "<span style=\"color:#33cc33\">Correct</span>"
      ],
      "text/plain": [
       "Correct"
      ]
     },
     "metadata": {},
     "output_type": "display_data"
    }
   ],
   "source": [
    "# Path of the file to read\n",
    "candy_filepath = \"../input/candy.csv\"\n",
    "\n",
    "# Fill in the line below to read the file into a variable candy_data\n",
    "candy_data = pd.read_csv(candy_filepath, index_col=\"id\")\n",
    "\n",
    "# Run the line below with no changes to check that you've loaded the data correctly\n",
    "step_1.check()"
   ]
  },
  {
   "cell_type": "code",
   "execution_count": 4,
   "id": "16ac80ac",
   "metadata": {
    "execution": {
     "iopub.execute_input": "2023-12-13T06:57:42.836546Z",
     "iopub.status.busy": "2023-12-13T06:57:42.835880Z",
     "iopub.status.idle": "2023-12-13T06:57:42.840651Z",
     "shell.execute_reply": "2023-12-13T06:57:42.839497Z"
    },
    "papermill": {
     "duration": 0.022452,
     "end_time": "2023-12-13T06:57:42.843087",
     "exception": false,
     "start_time": "2023-12-13T06:57:42.820635",
     "status": "completed"
    },
    "tags": []
   },
   "outputs": [],
   "source": [
    "# Lines below will give you a hint or solution code\n",
    "#step_1.hint()\n",
    "#step_1.solution()"
   ]
  },
  {
   "cell_type": "markdown",
   "id": "9492c76d",
   "metadata": {
    "papermill": {
     "duration": 0.012455,
     "end_time": "2023-12-13T06:57:42.868477",
     "exception": false,
     "start_time": "2023-12-13T06:57:42.856022",
     "status": "completed"
    },
    "tags": []
   },
   "source": [
    "## Step 2: Review the data\n",
    "\n",
    "Use a Python command to print the first five rows of the data."
   ]
  },
  {
   "cell_type": "code",
   "execution_count": 5,
   "id": "03731575",
   "metadata": {
    "execution": {
     "iopub.execute_input": "2023-12-13T06:57:42.896670Z",
     "iopub.status.busy": "2023-12-13T06:57:42.896231Z",
     "iopub.status.idle": "2023-12-13T06:57:42.922813Z",
     "shell.execute_reply": "2023-12-13T06:57:42.921520Z"
    },
    "papermill": {
     "duration": 0.043503,
     "end_time": "2023-12-13T06:57:42.925357",
     "exception": false,
     "start_time": "2023-12-13T06:57:42.881854",
     "status": "completed"
    },
    "tags": []
   },
   "outputs": [
    {
     "data": {
      "text/html": [
       "<div>\n",
       "<style scoped>\n",
       "    .dataframe tbody tr th:only-of-type {\n",
       "        vertical-align: middle;\n",
       "    }\n",
       "\n",
       "    .dataframe tbody tr th {\n",
       "        vertical-align: top;\n",
       "    }\n",
       "\n",
       "    .dataframe thead th {\n",
       "        text-align: right;\n",
       "    }\n",
       "</style>\n",
       "<table border=\"1\" class=\"dataframe\">\n",
       "  <thead>\n",
       "    <tr style=\"text-align: right;\">\n",
       "      <th></th>\n",
       "      <th>competitorname</th>\n",
       "      <th>chocolate</th>\n",
       "      <th>fruity</th>\n",
       "      <th>caramel</th>\n",
       "      <th>peanutyalmondy</th>\n",
       "      <th>nougat</th>\n",
       "      <th>crispedricewafer</th>\n",
       "      <th>hard</th>\n",
       "      <th>bar</th>\n",
       "      <th>pluribus</th>\n",
       "      <th>sugarpercent</th>\n",
       "      <th>pricepercent</th>\n",
       "      <th>winpercent</th>\n",
       "    </tr>\n",
       "    <tr>\n",
       "      <th>id</th>\n",
       "      <th></th>\n",
       "      <th></th>\n",
       "      <th></th>\n",
       "      <th></th>\n",
       "      <th></th>\n",
       "      <th></th>\n",
       "      <th></th>\n",
       "      <th></th>\n",
       "      <th></th>\n",
       "      <th></th>\n",
       "      <th></th>\n",
       "      <th></th>\n",
       "      <th></th>\n",
       "    </tr>\n",
       "  </thead>\n",
       "  <tbody>\n",
       "    <tr>\n",
       "      <th>0</th>\n",
       "      <td>100 Grand</td>\n",
       "      <td>Yes</td>\n",
       "      <td>No</td>\n",
       "      <td>Yes</td>\n",
       "      <td>No</td>\n",
       "      <td>No</td>\n",
       "      <td>Yes</td>\n",
       "      <td>No</td>\n",
       "      <td>Yes</td>\n",
       "      <td>No</td>\n",
       "      <td>0.732</td>\n",
       "      <td>0.860</td>\n",
       "      <td>66.971725</td>\n",
       "    </tr>\n",
       "    <tr>\n",
       "      <th>1</th>\n",
       "      <td>3 Musketeers</td>\n",
       "      <td>Yes</td>\n",
       "      <td>No</td>\n",
       "      <td>No</td>\n",
       "      <td>No</td>\n",
       "      <td>Yes</td>\n",
       "      <td>No</td>\n",
       "      <td>No</td>\n",
       "      <td>Yes</td>\n",
       "      <td>No</td>\n",
       "      <td>0.604</td>\n",
       "      <td>0.511</td>\n",
       "      <td>67.602936</td>\n",
       "    </tr>\n",
       "    <tr>\n",
       "      <th>2</th>\n",
       "      <td>Air Heads</td>\n",
       "      <td>No</td>\n",
       "      <td>Yes</td>\n",
       "      <td>No</td>\n",
       "      <td>No</td>\n",
       "      <td>No</td>\n",
       "      <td>No</td>\n",
       "      <td>No</td>\n",
       "      <td>No</td>\n",
       "      <td>No</td>\n",
       "      <td>0.906</td>\n",
       "      <td>0.511</td>\n",
       "      <td>52.341465</td>\n",
       "    </tr>\n",
       "    <tr>\n",
       "      <th>3</th>\n",
       "      <td>Almond Joy</td>\n",
       "      <td>Yes</td>\n",
       "      <td>No</td>\n",
       "      <td>No</td>\n",
       "      <td>Yes</td>\n",
       "      <td>No</td>\n",
       "      <td>No</td>\n",
       "      <td>No</td>\n",
       "      <td>Yes</td>\n",
       "      <td>No</td>\n",
       "      <td>0.465</td>\n",
       "      <td>0.767</td>\n",
       "      <td>50.347546</td>\n",
       "    </tr>\n",
       "    <tr>\n",
       "      <th>4</th>\n",
       "      <td>Baby Ruth</td>\n",
       "      <td>Yes</td>\n",
       "      <td>No</td>\n",
       "      <td>Yes</td>\n",
       "      <td>Yes</td>\n",
       "      <td>Yes</td>\n",
       "      <td>No</td>\n",
       "      <td>No</td>\n",
       "      <td>Yes</td>\n",
       "      <td>No</td>\n",
       "      <td>0.604</td>\n",
       "      <td>0.767</td>\n",
       "      <td>56.914547</td>\n",
       "    </tr>\n",
       "  </tbody>\n",
       "</table>\n",
       "</div>"
      ],
      "text/plain": [
       "   competitorname chocolate fruity caramel peanutyalmondy nougat  \\\n",
       "id                                                                 \n",
       "0       100 Grand       Yes     No     Yes             No     No   \n",
       "1    3 Musketeers       Yes     No      No             No    Yes   \n",
       "2       Air Heads        No    Yes      No             No     No   \n",
       "3      Almond Joy       Yes     No      No            Yes     No   \n",
       "4       Baby Ruth       Yes     No     Yes            Yes    Yes   \n",
       "\n",
       "   crispedricewafer hard  bar pluribus  sugarpercent  pricepercent  winpercent  \n",
       "id                                                                              \n",
       "0               Yes   No  Yes       No         0.732         0.860   66.971725  \n",
       "1                No   No  Yes       No         0.604         0.511   67.602936  \n",
       "2                No   No   No       No         0.906         0.511   52.341465  \n",
       "3                No   No  Yes       No         0.465         0.767   50.347546  \n",
       "4                No   No  Yes       No         0.604         0.767   56.914547  "
      ]
     },
     "execution_count": 5,
     "metadata": {},
     "output_type": "execute_result"
    }
   ],
   "source": [
    "# Print the first five rows of the data\n",
    "candy_data.head() # Your code here"
   ]
  },
  {
   "cell_type": "markdown",
   "id": "75b1b66c",
   "metadata": {
    "papermill": {
     "duration": 0.012993,
     "end_time": "2023-12-13T06:57:42.951432",
     "exception": false,
     "start_time": "2023-12-13T06:57:42.938439",
     "status": "completed"
    },
    "tags": []
   },
   "source": [
    "The dataset contains 83 rows, where each corresponds to a different candy bar.  There are 13 columns:\n",
    "- `'competitorname'` contains the name of the candy bar. \n",
    "- the next **9** columns (from `'chocolate'` to `'pluribus'`) describe the candy.  For instance, rows with chocolate candies have `\"Yes\"` in the `'chocolate'` column (and candies without chocolate have `\"No\"` in the same column).\n",
    "- `'sugarpercent'` provides some indication of the amount of sugar, where higher values signify higher sugar content.\n",
    "- `'pricepercent'` shows the price per unit, relative to the other candies in the dataset.\n",
    "- `'winpercent'` is calculated from the survey results; higher values indicate that the candy was more popular with survey respondents.\n",
    "\n",
    "Use the first five rows of the data to answer the questions below."
   ]
  },
  {
   "cell_type": "code",
   "execution_count": 6,
   "id": "47d46eae",
   "metadata": {
    "execution": {
     "iopub.execute_input": "2023-12-13T06:57:42.980449Z",
     "iopub.status.busy": "2023-12-13T06:57:42.979979Z",
     "iopub.status.idle": "2023-12-13T06:57:42.990123Z",
     "shell.execute_reply": "2023-12-13T06:57:42.988871Z"
    },
    "papermill": {
     "duration": 0.027914,
     "end_time": "2023-12-13T06:57:42.992779",
     "exception": false,
     "start_time": "2023-12-13T06:57:42.964865",
     "status": "completed"
    },
    "tags": []
   },
   "outputs": [
    {
     "data": {
      "application/javascript": [
       "parent.postMessage({\"jupyterEvent\": \"custom.exercise_interaction\", \"data\": {\"outcomeType\": 1, \"valueTowardsCompletion\": 0.3333333333333333, \"interactionType\": 1, \"questionType\": 1, \"questionId\": \"2_ReviewData\", \"learnToolsVersion\": \"0.3.4\", \"failureMessage\": \"\", \"exceptionClass\": \"\", \"trace\": \"\"}}, \"*\")"
      ],
      "text/plain": [
       "<IPython.core.display.Javascript object>"
      ]
     },
     "metadata": {},
     "output_type": "display_data"
    },
    {
     "data": {
      "text/markdown": [
       "<span style=\"color:#33cc33\">Correct</span>"
      ],
      "text/plain": [
       "Correct"
      ]
     },
     "metadata": {},
     "output_type": "display_data"
    }
   ],
   "source": [
    "# Fill in the line below: Which candy was more popular with survey respondents:\n",
    "# '3 Musketeers' or 'Almond Joy'?  (Please enclose your answer in single quotes.)\n",
    "more_popular = '3 Musketeers'\n",
    "\n",
    "# Fill in the line below: Which candy has higher sugar content: 'Air Heads'\n",
    "# or 'Baby Ruth'? (Please enclose your answer in single quotes.)\n",
    "more_sugar = 'Air Heads'\n",
    "\n",
    "# Check your answers\n",
    "step_2.check()"
   ]
  },
  {
   "cell_type": "code",
   "execution_count": 7,
   "id": "b67fa748",
   "metadata": {
    "execution": {
     "iopub.execute_input": "2023-12-13T06:57:43.024615Z",
     "iopub.status.busy": "2023-12-13T06:57:43.024156Z",
     "iopub.status.idle": "2023-12-13T06:57:43.028997Z",
     "shell.execute_reply": "2023-12-13T06:57:43.027685Z"
    },
    "papermill": {
     "duration": 0.023742,
     "end_time": "2023-12-13T06:57:43.031420",
     "exception": false,
     "start_time": "2023-12-13T06:57:43.007678",
     "status": "completed"
    },
    "tags": []
   },
   "outputs": [],
   "source": [
    "# Lines below will give you a hint or solution code\n",
    "#step_2.hint()\n",
    "#step_2.solution()"
   ]
  },
  {
   "cell_type": "markdown",
   "id": "b985fc53",
   "metadata": {
    "papermill": {
     "duration": 0.012922,
     "end_time": "2023-12-13T06:57:43.058195",
     "exception": false,
     "start_time": "2023-12-13T06:57:43.045273",
     "status": "completed"
    },
    "tags": []
   },
   "source": [
    "## Step 3: The role of sugar\n",
    "\n",
    "Do people tend to prefer candies with higher sugar content?  \n",
    "\n",
    "#### Part A\n",
    "\n",
    "Create a scatter plot that shows the relationship between `'sugarpercent'` (on the horizontal x-axis) and `'winpercent'` (on the vertical y-axis).  _Don't add a regression line just yet -- you'll do that in the next step!_"
   ]
  },
  {
   "cell_type": "code",
   "execution_count": 8,
   "id": "05321005",
   "metadata": {
    "execution": {
     "iopub.execute_input": "2023-12-13T06:57:43.087370Z",
     "iopub.status.busy": "2023-12-13T06:57:43.086854Z",
     "iopub.status.idle": "2023-12-13T06:57:43.437249Z",
     "shell.execute_reply": "2023-12-13T06:57:43.436139Z"
    },
    "papermill": {
     "duration": 0.368381,
     "end_time": "2023-12-13T06:57:43.439899",
     "exception": false,
     "start_time": "2023-12-13T06:57:43.071518",
     "status": "completed"
    },
    "tags": []
   },
   "outputs": [
    {
     "data": {
      "application/javascript": [
       "parent.postMessage({\"jupyterEvent\": \"custom.exercise_interaction\", \"data\": {\"outcomeType\": 1, \"valueTowardsCompletion\": 0.3333333333333333, \"interactionType\": 1, \"questionType\": 2, \"questionId\": \"3.1_PlotBlueScatter\", \"learnToolsVersion\": \"0.3.4\", \"failureMessage\": \"\", \"exceptionClass\": \"\", \"trace\": \"\"}}, \"*\")"
      ],
      "text/plain": [
       "<IPython.core.display.Javascript object>"
      ]
     },
     "metadata": {},
     "output_type": "display_data"
    },
    {
     "data": {
      "text/markdown": [
       "<span style=\"color:#33cc33\">Correct</span>"
      ],
      "text/plain": [
       "Correct"
      ]
     },
     "metadata": {},
     "output_type": "display_data"
    },
    {
     "data": {
      "image/png": "[encoded data removed]",
      "text/plain": [
       "<Figure size 640x480 with 1 Axes>"
      ]
     },
     "metadata": {},
     "output_type": "display_data"
    }
   ],
   "source": [
    "# Scatter plot showing the relationship between 'sugarpercent' and 'winpercent'\n",
    "sns.scatterplot(x=candy_data['sugarpercent'], y=candy_data['winpercent']) # Your code here\n",
    "\n",
    "# Check your answer\n",
    "step_3.a.check()"
   ]
  },
  {
   "cell_type": "code",
   "execution_count": 9,
   "id": "59147619",
   "metadata": {
    "execution": {
     "iopub.execute_input": "2023-12-13T06:57:43.470527Z",
     "iopub.status.busy": "2023-12-13T06:57:43.470018Z",
     "iopub.status.idle": "2023-12-13T06:57:43.475648Z",
     "shell.execute_reply": "2023-12-13T06:57:43.474425Z"
    },
    "papermill": {
     "duration": 0.023564,
     "end_time": "2023-12-13T06:57:43.477911",
     "exception": false,
     "start_time": "2023-12-13T06:57:43.454347",
     "status": "completed"
    },
    "tags": []
   },
   "outputs": [],
   "source": [
    "# Lines below will give you a hint or solution code\n",
    "#step_3.a.hint()\n",
    "#step_3.a.solution_plot()"
   ]
  },
  {
   "cell_type": "markdown",
   "id": "d747e64c",
   "metadata": {
    "papermill": {
     "duration": 0.014125,
     "end_time": "2023-12-13T06:57:43.506332",
     "exception": false,
     "start_time": "2023-12-13T06:57:43.492207",
     "status": "completed"
    },
    "tags": []
   },
   "source": [
    "#### Part B\n",
    "\n",
    "Does the scatter plot show a **strong** correlation between the two variables?  If so, are candies with more sugar relatively more or less popular with the survey respondents?"
   ]
  },
  {
   "cell_type": "code",
   "execution_count": 10,
   "id": "0a53a11b",
   "metadata": {
    "execution": {
     "iopub.execute_input": "2023-12-13T06:57:43.536780Z",
     "iopub.status.busy": "2023-12-13T06:57:43.535845Z",
     "iopub.status.idle": "2023-12-13T06:57:43.541489Z",
     "shell.execute_reply": "2023-12-13T06:57:43.540237Z"
    },
    "papermill": {
     "duration": 0.023523,
     "end_time": "2023-12-13T06:57:43.543819",
     "exception": false,
     "start_time": "2023-12-13T06:57:43.520296",
     "status": "completed"
    },
    "tags": []
   },
   "outputs": [],
   "source": [
    "#step_3.b.hint()"
   ]
  },
  {
   "cell_type": "code",
   "execution_count": 11,
   "id": "d42e61fb",
   "metadata": {
    "execution": {
     "iopub.execute_input": "2023-12-13T06:57:43.574367Z",
     "iopub.status.busy": "2023-12-13T06:57:43.573857Z",
     "iopub.status.idle": "2023-12-13T06:57:43.583539Z",
     "shell.execute_reply": "2023-12-13T06:57:43.582519Z"
    },
    "papermill": {
     "duration": 0.028018,
     "end_time": "2023-12-13T06:57:43.585972",
     "exception": false,
     "start_time": "2023-12-13T06:57:43.557954",
     "status": "completed"
    },
    "tags": []
   },
   "outputs": [
    {
     "data": {
      "application/javascript": [
       "parent.postMessage({\"jupyterEvent\": \"custom.exercise_interaction\", \"data\": {\"interactionType\": 3, \"questionType\": 4, \"questionId\": \"3.2_ThinkBlueScatter\", \"learnToolsVersion\": \"0.3.4\", \"valueTowardsCompletion\": 0.0, \"failureMessage\": \"\", \"exceptionClass\": \"\", \"trace\": \"\", \"outcomeType\": 4}}, \"*\")"
      ],
      "text/plain": [
       "<IPython.core.display.Javascript object>"
      ]
     },
     "metadata": {},
     "output_type": "display_data"
    },
    {
     "data": {
      "text/markdown": [
       "<span style=\"color:#33cc99\">Solution:</span> The scatter plot does not show a strong correlation between the two variables. Since there is no clear relationship between the two variables, this tells us that sugar content does not play a strong role in candy popularity."
      ],
      "text/plain": [
       "Solution: The scatter plot does not show a strong correlation between the two variables. Since there is no clear relationship between the two variables, this tells us that sugar content does not play a strong role in candy popularity."
      ]
     },
     "metadata": {},
     "output_type": "display_data"
    }
   ],
   "source": [
    "# Check your answer (Run this code cell to receive credit!)\n",
    "step_3.b.solution()"
   ]
  },
  {
   "cell_type": "markdown",
   "id": "19024383",
   "metadata": {
    "papermill": {
     "duration": 0.014116,
     "end_time": "2023-12-13T06:57:43.614854",
     "exception": false,
     "start_time": "2023-12-13T06:57:43.600738",
     "status": "completed"
    },
    "tags": []
   },
   "source": [
    "## Step 4: Take a closer look\n",
    "\n",
    "#### Part A\n",
    "\n",
    "Create the same scatter plot you created in **Step 3**, but now with a regression line!"
   ]
  },
  {
   "cell_type": "code",
   "execution_count": 12,
   "id": "64def9af",
   "metadata": {
    "execution": {
     "iopub.execute_input": "2023-12-13T06:57:43.646615Z",
     "iopub.status.busy": "2023-12-13T06:57:43.645659Z",
     "iopub.status.idle": "2023-12-13T06:57:44.092149Z",
     "shell.execute_reply": "2023-12-13T06:57:44.090929Z"
    },
    "papermill": {
     "duration": 0.465579,
     "end_time": "2023-12-13T06:57:44.095047",
     "exception": false,
     "start_time": "2023-12-13T06:57:43.629468",
     "status": "completed"
    },
    "tags": []
   },
   "outputs": [
    {
     "data": {
      "application/javascript": [
       "parent.postMessage({\"jupyterEvent\": \"custom.exercise_interaction\", \"data\": {\"outcomeType\": 1, \"valueTowardsCompletion\": 0.3333333333333333, \"interactionType\": 1, \"questionType\": 2, \"questionId\": \"4.1_PlotBlueReg\", \"learnToolsVersion\": \"0.3.4\", \"failureMessage\": \"\", \"exceptionClass\": \"\", \"trace\": \"\"}}, \"*\")"
      ],
      "text/plain": [
       "<IPython.core.display.Javascript object>"
      ]
     },
     "metadata": {},
     "output_type": "display_data"
    },
    {
     "data": {
      "text/markdown": [
       "<span style=\"color:#33cc33\">Correct</span>"
      ],
      "text/plain": [
       "Correct"
      ]
     },
     "metadata": {},
     "output_type": "display_data"
    },
    {
     "data": {
      "image/png": "[encoded data removed]",
      "text/plain": [
       "<Figure size 640x480 with 1 Axes>"
      ]
     },
     "metadata": {},
     "output_type": "display_data"
    }
   ],
   "source": [
    "# Scatter plot w/ regression line showing the relationship between 'sugarpercent' and 'winpercent'\n",
    "sns.regplot(x=candy_data['sugarpercent'], y=candy_data['winpercent']) # Your code here\n",
    "\n",
    "# Check your answer\n",
    "step_4.a.check()"
   ]
  },
  {
   "cell_type": "code",
   "execution_count": 13,
   "id": "66218e02",
   "metadata": {
    "execution": {
     "iopub.execute_input": "2023-12-13T06:57:44.131083Z",
     "iopub.status.busy": "2023-12-13T06:57:44.129977Z",
     "iopub.status.idle": "2023-12-13T06:57:44.135162Z",
     "shell.execute_reply": "2023-12-13T06:57:44.133983Z"
    },
    "papermill": {
     "duration": 0.02559,
     "end_time": "2023-12-13T06:57:44.137534",
     "exception": false,
     "start_time": "2023-12-13T06:57:44.111944",
     "status": "completed"
    },
    "tags": []
   },
   "outputs": [],
   "source": [
    "# Lines below will give you a hint or solution code\n",
    "#step_4.a.hint()\n",
    "#step_4.a.solution_plot()"
   ]
  },
  {
   "cell_type": "markdown",
   "id": "bff94fe5",
   "metadata": {
    "papermill": {
     "duration": 0.015287,
     "end_time": "2023-12-13T06:57:44.258625",
     "exception": false,
     "start_time": "2023-12-13T06:57:44.243338",
     "status": "completed"
    },
    "tags": []
   },
   "source": [
    "#### Part B\n",
    "\n",
    "According to the plot above, is there a **slight** correlation between `'winpercent'` and `'sugarpercent'`?  What does this tell you about the candy that people tend to prefer?"
   ]
  },
  {
   "cell_type": "code",
   "execution_count": 14,
   "id": "46f94922",
   "metadata": {
    "execution": {
     "iopub.execute_input": "2023-12-13T06:57:44.292480Z",
     "iopub.status.busy": "2023-12-13T06:57:44.291619Z",
     "iopub.status.idle": "2023-12-13T06:57:44.296606Z",
     "shell.execute_reply": "2023-12-13T06:57:44.295538Z"
    },
    "papermill": {
     "duration": 0.025137,
     "end_time": "2023-12-13T06:57:44.299373",
     "exception": false,
     "start_time": "2023-12-13T06:57:44.274236",
     "status": "completed"
    },
    "tags": []
   },
   "outputs": [],
   "source": [
    "#step_4.b.hint()"
   ]
  },
  {
   "cell_type": "code",
   "execution_count": 15,
   "id": "fbfdac27",
   "metadata": {
    "execution": {
     "iopub.execute_input": "2023-12-13T06:57:44.333740Z",
     "iopub.status.busy": "2023-12-13T06:57:44.332905Z",
     "iopub.status.idle": "2023-12-13T06:57:44.341537Z",
     "shell.execute_reply": "2023-12-13T06:57:44.340413Z"
    },
    "papermill": {
     "duration": 0.028497,
     "end_time": "2023-12-13T06:57:44.343784",
     "exception": false,
     "start_time": "2023-12-13T06:57:44.315287",
     "status": "completed"
    },
    "tags": []
   },
   "outputs": [
    {
     "data": {
      "application/javascript": [
       "parent.postMessage({\"jupyterEvent\": \"custom.exercise_interaction\", \"data\": {\"interactionType\": 3, \"questionType\": 4, \"questionId\": \"4.2_ThinkBlueReg\", \"learnToolsVersion\": \"0.3.4\", \"valueTowardsCompletion\": 0.0, \"failureMessage\": \"\", \"exceptionClass\": \"\", \"trace\": \"\", \"outcomeType\": 4}}, \"*\")"
      ],
      "text/plain": [
       "<IPython.core.display.Javascript object>"
      ]
     },
     "metadata": {},
     "output_type": "display_data"
    },
    {
     "data": {
      "text/markdown": [
       "<span style=\"color:#33cc99\">Solution:</span> Since the regression line has a slightly positive slope, this tells us that there is a slightly positive correlation between `'winpercent'` and `'sugarpercent'`. Thus, people have a slight preference for candies containing relatively more sugar."
      ],
      "text/plain": [
       "Solution: Since the regression line has a slightly positive slope, this tells us that there is a slightly positive correlation between `'winpercent'` and `'sugarpercent'`. Thus, people have a slight preference for candies containing relatively more sugar."
      ]
     },
     "metadata": {},
     "output_type": "display_data"
    }
   ],
   "source": [
    "# Check your answer (Run this code cell to receive credit!)\n",
    "step_4.b.solution()"
   ]
  },
  {
   "cell_type": "markdown",
   "id": "29a34a33",
   "metadata": {
    "papermill": {
     "duration": 0.015777,
     "end_time": "2023-12-13T06:57:44.375717",
     "exception": false,
     "start_time": "2023-12-13T06:57:44.359940",
     "status": "completed"
    },
    "tags": []
   },
   "source": [
    "## Step 5: Chocolate!\n",
    "\n",
    "In the code cell below, create a scatter plot to show the relationship between `'pricepercent'` (on the horizontal x-axis) and `'winpercent'` (on the vertical y-axis). Use the `'chocolate'` column to color-code the points.  _Don't add any regression lines just yet -- you'll do that in the next step!_"
   ]
  },
  {
   "cell_type": "code",
   "execution_count": 16,
   "id": "19dfe2c9",
   "metadata": {
    "execution": {
     "iopub.execute_input": "2023-12-13T06:57:44.410379Z",
     "iopub.status.busy": "2023-12-13T06:57:44.409458Z",
     "iopub.status.idle": "2023-12-13T06:57:44.825039Z",
     "shell.execute_reply": "2023-12-13T06:57:44.823738Z"
    },
    "papermill": {
     "duration": 0.435936,
     "end_time": "2023-12-13T06:57:44.827501",
     "exception": false,
     "start_time": "2023-12-13T06:57:44.391565",
     "status": "completed"
    },
    "tags": []
   },
   "outputs": [
    {
     "data": {
      "application/javascript": [
       "parent.postMessage({\"jupyterEvent\": \"custom.exercise_interaction\", \"data\": {\"outcomeType\": 1, \"valueTowardsCompletion\": 0.3333333333333333, \"interactionType\": 1, \"questionType\": 2, \"questionId\": \"5_ColorScatter\", \"learnToolsVersion\": \"0.3.4\", \"failureMessage\": \"\", \"exceptionClass\": \"\", \"trace\": \"\"}}, \"*\")"
      ],
      "text/plain": [
       "<IPython.core.display.Javascript object>"
      ]
     },
     "metadata": {},
     "output_type": "display_data"
    },
    {
     "data": {
      "text/markdown": [
       "<span style=\"color:#33cc33\">Correct</span>"
      ],
      "text/plain": [
       "Correct"
      ]
     },
     "metadata": {},
     "output_type": "display_data"
    },
    {
     "data": {
      "image/png": "[encoded data removed]",
      "text/plain": [
       "<Figure size 640x480 with 1 Axes>"
      ]
     },
     "metadata": {},
     "output_type": "display_data"
    }
   ],
   "source": [
    "# Scatter plot showing the relationship between 'pricepercent', 'winpercent', and 'chocolate'\n",
    "sns.scatterplot(x='pricepercent', y='winpercent', hue='chocolate', data=candy_data) # Your code here\n",
    "\n",
    "# Check your answer\n",
    "step_5.check()"
   ]
  },
  {
   "cell_type": "code",
   "execution_count": 17,
   "id": "27b0e3e1",
   "metadata": {
    "execution": {
     "iopub.execute_input": "2023-12-13T06:57:44.864722Z",
     "iopub.status.busy": "2023-12-13T06:57:44.864227Z",
     "iopub.status.idle": "2023-12-13T06:57:44.869367Z",
     "shell.execute_reply": "2023-12-13T06:57:44.868141Z"
    },
    "papermill": {
     "duration": 0.027258,
     "end_time": "2023-12-13T06:57:44.871974",
     "exception": false,
     "start_time": "2023-12-13T06:57:44.844716",
     "status": "completed"
    },
    "tags": []
   },
   "outputs": [],
   "source": [
    "# Lines below will give you a hint or solution code\n",
    "#step_5.hint()\n",
    "#step_5.solution_plot()"
   ]
  },
  {
   "cell_type": "markdown",
   "id": "fee1d71c",
   "metadata": {
    "papermill": {
     "duration": 0.017539,
     "end_time": "2023-12-13T06:57:44.906921",
     "exception": false,
     "start_time": "2023-12-13T06:57:44.889382",
     "status": "completed"
    },
    "tags": []
   },
   "source": [
    "Can you see any interesting patterns in the scatter plot?  We'll investigate this plot further  by adding regression lines in the next step!\n",
    "\n",
    "## Step 6: Investigate chocolate\n",
    "\n",
    "#### Part A\n",
    "\n",
    "Create the same scatter plot you created in **Step 5**, but now with two regression lines, corresponding to (1) chocolate candies and (2) candies without chocolate."
   ]
  },
  {
   "cell_type": "code",
   "execution_count": 18,
   "id": "548d48fc",
   "metadata": {
    "execution": {
     "iopub.execute_input": "2023-12-13T06:57:44.944833Z",
     "iopub.status.busy": "2023-12-13T06:57:44.944326Z",
     "iopub.status.idle": "2023-12-13T06:57:45.951383Z",
     "shell.execute_reply": "2023-12-13T06:57:45.949955Z"
    },
    "papermill": {
     "duration": 1.030346,
     "end_time": "2023-12-13T06:57:45.954434",
     "exception": false,
     "start_time": "2023-12-13T06:57:44.924088",
     "status": "completed"
    },
    "tags": []
   },
   "outputs": [
    {
     "data": {
      "application/javascript": [
       "parent.postMessage({\"jupyterEvent\": \"custom.exercise_interaction\", \"data\": {\"outcomeType\": 1, \"valueTowardsCompletion\": 0.3333333333333333, \"interactionType\": 1, \"questionType\": 2, \"questionId\": \"6.1_PlotColorReg\", \"learnToolsVersion\": \"0.3.4\", \"failureMessage\": \"\", \"exceptionClass\": \"\", \"trace\": \"\"}}, \"*\")"
      ],
      "text/plain": [
       "<IPython.core.display.Javascript object>"
      ]
     },
     "metadata": {},
     "output_type": "display_data"
    },
    {
     "data": {
      "text/markdown": [
       "<span style=\"color:#33cc33\">Correct</span>"
      ],
      "text/plain": [
       "Correct"
      ]
     },
     "metadata": {},
     "output_type": "display_data"
    },
    {
     "data": {
      "image/png": "[encoded data removed]",
      "text/plain": [
       "<Figure size 578.611x500 with 1 Axes>"
      ]
     },
     "metadata": {},
     "output_type": "display_data"
    }
   ],
   "source": [
    "# Color-coded scatter plot w/ regression lines\n",
    "sns.lmplot(x='pricepercent', y='winpercent', hue='chocolate', data=candy_data) # Your code here\n",
    "\n",
    "# Check your answer\n",
    "step_6.a.check()"
   ]
  },
  {
   "cell_type": "code",
   "execution_count": 19,
   "id": "1319f8bf",
   "metadata": {
    "execution": {
     "iopub.execute_input": "2023-12-13T06:57:45.995838Z",
     "iopub.status.busy": "2023-12-13T06:57:45.994922Z",
     "iopub.status.idle": "2023-12-13T06:57:46.000926Z",
     "shell.execute_reply": "2023-12-13T06:57:45.999353Z"
    },
    "papermill": {
     "duration": 0.031048,
     "end_time": "2023-12-13T06:57:46.003988",
     "exception": false,
     "start_time": "2023-12-13T06:57:45.972940",
     "status": "completed"
    },
    "tags": []
   },
   "outputs": [],
   "source": [
    "# Lines below will give you a hint or solution code\n",
    "#step_6.a.hint()\n",
    "#step_6.a.solution_plot()"
   ]
  },
  {
   "cell_type": "markdown",
   "id": "cde8fd4c",
   "metadata": {
    "papermill": {
     "duration": 0.017757,
     "end_time": "2023-12-13T06:57:46.040905",
     "exception": false,
     "start_time": "2023-12-13T06:57:46.023148",
     "status": "completed"
    },
    "tags": []
   },
   "source": [
    "#### Part B\n",
    "\n",
    "Using the regression lines, what conclusions can you draw about the effects of chocolate and price on candy popularity?"
   ]
  },
  {
   "cell_type": "code",
   "execution_count": 20,
   "id": "b06a1bd0",
   "metadata": {
    "execution": {
     "iopub.execute_input": "2023-12-13T06:57:46.081695Z",
     "iopub.status.busy": "2023-12-13T06:57:46.081249Z",
     "iopub.status.idle": "2023-12-13T06:57:46.086415Z",
     "shell.execute_reply": "2023-12-13T06:57:46.085370Z"
    },
    "papermill": {
     "duration": 0.028556,
     "end_time": "2023-12-13T06:57:46.088794",
     "exception": false,
     "start_time": "2023-12-13T06:57:46.060238",
     "status": "completed"
    },
    "tags": []
   },
   "outputs": [],
   "source": [
    "#step_6.b.hint()"
   ]
  },
  {
   "cell_type": "code",
   "execution_count": 21,
   "id": "e28ecf21",
   "metadata": {
    "execution": {
     "iopub.execute_input": "2023-12-13T06:57:46.129137Z",
     "iopub.status.busy": "2023-12-13T06:57:46.128627Z",
     "iopub.status.idle": "2023-12-13T06:57:46.139004Z",
     "shell.execute_reply": "2023-12-13T06:57:46.137321Z"
    },
    "papermill": {
     "duration": 0.034197,
     "end_time": "2023-12-13T06:57:46.141440",
     "exception": false,
     "start_time": "2023-12-13T06:57:46.107243",
     "status": "completed"
    },
    "tags": []
   },
   "outputs": [
    {
     "data": {
      "application/javascript": [
       "parent.postMessage({\"jupyterEvent\": \"custom.exercise_interaction\", \"data\": {\"interactionType\": 3, \"questionType\": 4, \"questionId\": \"6.2_ThinkColorReg\", \"learnToolsVersion\": \"0.3.4\", \"valueTowardsCompletion\": 0.0, \"failureMessage\": \"\", \"exceptionClass\": \"\", \"trace\": \"\", \"outcomeType\": 4}}, \"*\")"
      ],
      "text/plain": [
       "<IPython.core.display.Javascript object>"
      ]
     },
     "metadata": {},
     "output_type": "display_data"
    },
    {
     "data": {
      "text/markdown": [
       "<span style=\"color:#33cc99\">Solution:</span> We'll begin with the regression line for chocolate candies. Since this line has a slightly positive slope, we can say that more expensive chocolate candies tend to be more popular (than relatively cheaper chocolate candies).  Likewise, since the regression line for candies without chocolate has a negative slope, we can say that if candies don't contain chocolate, they tend to be more popular when they are cheaper.  One important note, however, is that the dataset is quite small -- so we shouldn't invest too much trust in these patterns!  To inspire more confidence in the results, we should add more candies to the dataset."
      ],
      "text/plain": [
       "Solution: We'll begin with the regression line for chocolate candies. Since this line has a slightly positive slope, we can say that more expensive chocolate candies tend to be more popular (than relatively cheaper chocolate candies).  Likewise, since the regression line for candies without chocolate has a negative slope, we can say that if candies don't contain chocolate, they tend to be more popular when they are cheaper.  One important note, however, is that the dataset is quite small -- so we shouldn't invest too much trust in these patterns!  To inspire more confidence in the results, we should add more candies to the dataset."
      ]
     },
     "metadata": {},
     "output_type": "display_data"
    }
   ],
   "source": [
    "# Check your answer (Run this code cell to receive credit!)\n",
    "step_6.b.solution()"
   ]
  },
  {
   "cell_type": "markdown",
   "id": "dee31f92",
   "metadata": {
    "papermill": {
     "duration": 0.018366,
     "end_time": "2023-12-13T06:57:46.178384",
     "exception": false,
     "start_time": "2023-12-13T06:57:46.160018",
     "status": "completed"
    },
    "tags": []
   },
   "source": [
    "## Step 7: Everybody loves chocolate.\n",
    "\n",
    "#### Part A\n",
    "\n",
    "Create a categorical scatter plot to highlight the relationship between `'chocolate'` and `'winpercent'`.  Put `'chocolate'` on the (horizontal) x-axis, and `'winpercent'` on the (vertical) y-axis."
   ]
  },
  {
   "cell_type": "code",
   "execution_count": 22,
   "id": "915b5b97",
   "metadata": {
    "execution": {
     "iopub.execute_input": "2023-12-13T06:57:46.217608Z",
     "iopub.status.busy": "2023-12-13T06:57:46.217132Z",
     "iopub.status.idle": "2023-12-13T06:57:46.775569Z",
     "shell.execute_reply": "2023-12-13T06:57:46.774000Z"
    },
    "papermill": {
     "duration": 0.584003,
     "end_time": "2023-12-13T06:57:46.780920",
     "exception": false,
     "start_time": "2023-12-13T06:57:46.196917",
     "status": "completed"
    },
    "tags": []
   },
   "outputs": [
    {
     "data": {
      "application/javascript": [
       "parent.postMessage({\"jupyterEvent\": \"custom.exercise_interaction\", \"data\": {\"outcomeType\": 1, \"valueTowardsCompletion\": 0.3333333333333333, \"interactionType\": 1, \"questionType\": 2, \"questionId\": \"7.1_PlotSwarm\", \"learnToolsVersion\": \"0.3.4\", \"failureMessage\": \"\", \"exceptionClass\": \"\", \"trace\": \"\"}}, \"*\")"
      ],
      "text/plain": [
       "<IPython.core.display.Javascript object>"
      ]
     },
     "metadata": {},
     "output_type": "display_data"
    },
    {
     "data": {
      "text/markdown": [
       "<span style=\"color:#33cc33\">Correct</span>"
      ],
      "text/plain": [
       "Correct"
      ]
     },
     "metadata": {},
     "output_type": "display_data"
    },
    {
     "data": {
      "image/png": "[encoded data removed]",
      "text/plain": [
       "<Figure size 640x480 with 1 Axes>"
      ]
     },
     "metadata": {},
     "output_type": "display_data"
    }
   ],
   "source": [
    "# Scatter plot showing the relationship between 'chocolate' and 'winpercent'\n",
    "sns.swarmplot(x=\"chocolate\", y=\"winpercent\", data=candy_data) # Your code here\n",
    "\n",
    "# Check your answer\n",
    "step_7.a.check()"
   ]
  },
  {
   "cell_type": "code",
   "execution_count": 23,
   "id": "e87d9c32",
   "metadata": {
    "execution": {
     "iopub.execute_input": "2023-12-13T06:57:46.835253Z",
     "iopub.status.busy": "2023-12-13T06:57:46.833900Z",
     "iopub.status.idle": "2023-12-13T06:57:46.839026Z",
     "shell.execute_reply": "2023-12-13T06:57:46.838128Z"
    },
    "papermill": {
     "duration": 0.028253,
     "end_time": "2023-12-13T06:57:46.841288",
     "exception": false,
     "start_time": "2023-12-13T06:57:46.813035",
     "status": "completed"
    },
    "tags": []
   },
   "outputs": [],
   "source": [
    "# Lines below will give you a hint or solution code\n",
    "#step_7.a.hint()\n",
    "#step_7.a.solution_plot()"
   ]
  },
  {
   "cell_type": "markdown",
   "id": "a63434ba",
   "metadata": {
    "papermill": {
     "duration": 0.018943,
     "end_time": "2023-12-13T06:57:46.879652",
     "exception": false,
     "start_time": "2023-12-13T06:57:46.860709",
     "status": "completed"
    },
    "tags": []
   },
   "source": [
    "#### Part B\n",
    "\n",
    "You decide to dedicate a section of your report to the fact that chocolate candies tend to be more popular than candies without chocolate.  Which plot is more appropriate to tell this story: the plot from **Step 6**, or the plot from **Step 7**?"
   ]
  },
  {
   "cell_type": "code",
   "execution_count": 24,
   "id": "90a97222",
   "metadata": {
    "execution": {
     "iopub.execute_input": "2023-12-13T06:57:46.921532Z",
     "iopub.status.busy": "2023-12-13T06:57:46.920225Z",
     "iopub.status.idle": "2023-12-13T06:57:46.925472Z",
     "shell.execute_reply": "2023-12-13T06:57:46.924380Z"
    },
    "papermill": {
     "duration": 0.028442,
     "end_time": "2023-12-13T06:57:46.928060",
     "exception": false,
     "start_time": "2023-12-13T06:57:46.899618",
     "status": "completed"
    },
    "tags": []
   },
   "outputs": [],
   "source": [
    "#step_7.b.hint()"
   ]
  },
  {
   "cell_type": "code",
   "execution_count": 25,
   "id": "5420d476",
   "metadata": {
    "execution": {
     "iopub.execute_input": "2023-12-13T06:57:46.968619Z",
     "iopub.status.busy": "2023-12-13T06:57:46.968172Z",
     "iopub.status.idle": "2023-12-13T06:57:46.976884Z",
     "shell.execute_reply": "2023-12-13T06:57:46.976117Z"
    },
    "papermill": {
     "duration": 0.032168,
     "end_time": "2023-12-13T06:57:46.979584",
     "exception": false,
     "start_time": "2023-12-13T06:57:46.947416",
     "status": "completed"
    },
    "tags": []
   },
   "outputs": [
    {
     "data": {
      "application/javascript": [
       "parent.postMessage({\"jupyterEvent\": \"custom.exercise_interaction\", \"data\": {\"interactionType\": 3, \"questionType\": 4, \"questionId\": \"7.2_ThinkSwarm\", \"learnToolsVersion\": \"0.3.4\", \"valueTowardsCompletion\": 0.0, \"failureMessage\": \"\", \"exceptionClass\": \"\", \"trace\": \"\", \"outcomeType\": 4}}, \"*\")"
      ],
      "text/plain": [
       "<IPython.core.display.Javascript object>"
      ]
     },
     "metadata": {},
     "output_type": "display_data"
    },
    {
     "data": {
      "text/markdown": [
       "<span style=\"color:#33cc99\">Solution:</span> In this case, the categorical scatter plot from **Step 7** is the more appropriate plot. While both plots tell the desired story, the plot from **Step 6** conveys far more information that could distract from the main point."
      ],
      "text/plain": [
       "Solution: In this case, the categorical scatter plot from **Step 7** is the more appropriate plot. While both plots tell the desired story, the plot from **Step 6** conveys far more information that could distract from the main point."
      ]
     },
     "metadata": {},
     "output_type": "display_data"
    }
   ],
   "source": [
    "# Check your answer (Run this code cell to receive credit!)\n",
    "step_7.b.solution()"
   ]
  },
  {
   "cell_type": "markdown",
   "id": "f2a84fdc",
   "metadata": {
    "papermill": {
     "duration": 0.019688,
     "end_time": "2023-12-13T06:57:47.018651",
     "exception": false,
     "start_time": "2023-12-13T06:57:46.998963",
     "status": "completed"
    },
    "tags": []
   },
   "source": [
    "## Keep going\n",
    "\n",
    "Explore **[histograms and density plots](https://www.kaggle.com/alexisbcook/distributions)**."
   ]
  },
  {
   "cell_type": "markdown",
   "id": "e876662f",
   "metadata": {
    "papermill": {
     "duration": 0.018793,
     "end_time": "2023-12-13T06:57:47.056766",
     "exception": false,
     "start_time": "2023-12-13T06:57:47.037973",
     "status": "completed"
    },
    "tags": []
   },
   "source": [
    "---\n",
    "\n",
    "\n",
    "\n",
    "\n",
    "*Have questions or comments? Visit the [course discussion forum](https://www.kaggle.com/learn/data-visualization/discussion) to chat with other learners.*"
   ]
  }
 ],
 "metadata": {
  "kaggle": {
   "accelerator": "none",
   "dataSources": [
    {
     "datasetId": 116573,
     "sourceId": 3551030,
     "sourceType": "datasetVersion"
    }
   ],
   "isGpuEnabled": false,
   "isInternetEnabled": false,
   "language": "python",
   "sourceType": "notebook"
  },
  "kernelspec": {
   "display_name": "Python 3",
   "language": "python",
   "name": "python3"
  },
  "language_info": {
   "codemirror_mode": {
    "name": "ipython",
    "version": 3
   },
   "file_extension": ".py",
   "mimetype": "text/x-python",
   "name": "python",
   "nbconvert_exporter": "python",
   "pygments_lexer": "ipython3",
   "version": "3.10.12"
  },
  "papermill": {
   "default_parameters": {},
   "duration": 11.048502,
   "end_time": "2023-12-13T06:57:47.900873",
   "environment_variables": {},
   "exception": null,
   "input_path": "__notebook__.ipynb",
   "output_path": "__notebook__.ipynb",
   "parameters": {},
   "start_time": "2023-12-13T06:57:36.852371",
   "version": "2.4.0"
  }
 },
 "nbformat": 4,
 "nbformat_minor": 5
}
