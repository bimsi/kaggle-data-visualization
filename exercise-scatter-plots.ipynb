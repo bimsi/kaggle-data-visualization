{
 "cells": [
  {
   "cell_type": "markdown",
   "id": "83a7688a",
   "metadata": {
    "papermill": {
     "duration": 0.006356,
     "end_time": "2023-12-13T06:55:03.881395",
     "exception": false,
     "start_time": "2023-12-13T06:55:03.875039",
     "status": "completed"
    },
    "tags": []
   },
   "source": [
    "**This notebook is an exercise in the [Data Visualization](https://www.kaggle.com/learn/data-visualization) course.  You can reference the tutorial at [this link](https://www.kaggle.com/alexisbcook/scatter-plots).**\n",
    "\n",
    "---\n"
   ]
  },
  {
   "cell_type": "markdown",
   "id": "02803dd6",
   "metadata": {
    "papermill": {
     "duration": 0.005718,
     "end_time": "2023-12-13T06:55:03.893046",
     "exception": false,
     "start_time": "2023-12-13T06:55:03.887328",
     "status": "completed"
    },
    "tags": []
   },
   "source": [
    "In this exercise, you will use your new knowledge to propose a solution to a real-world scenario.  To succeed, you will need to import data into Python, answer questions using the data, and generate **scatter plots** to understand patterns in the data.\n",
    "\n",
    "## Scenario\n",
    "\n",
    "You work for a major candy producer, and your goal is to write a report that your company can use to guide the design of its next product.  Soon after starting your research, you stumble across this [very interesting dataset](https://fivethirtyeight.com/features/the-ultimate-halloween-candy-power-ranking/) containing results from a fun survey to crowdsource favorite candies.\n",
    "\n",
    "## Setup\n",
    "\n",
    "Run the next cell to import and configure the Python libraries that you need to complete the exercise."
   ]
  },
  {
   "cell_type": "code",
   "execution_count": 1,
   "id": "0a1434b0",
   "metadata": {
    "execution": {
     "iopub.execute_input": "2023-12-13T06:55:03.906044Z",
     "iopub.status.busy": "2023-12-13T06:55:03.905718Z",
     "iopub.status.idle": "2023-12-13T06:55:05.146213Z",
     "shell.execute_reply": "2023-12-13T06:55:05.145309Z"
    },
    "papermill": {
     "duration": 1.248952,
     "end_time": "2023-12-13T06:55:05.147774",
     "exception": false,
     "start_time": "2023-12-13T06:55:03.898822",
     "status": "completed"
    },
    "tags": []
   },
   "outputs": [
    {
     "name": "stdout",
     "output_type": "stream",
     "text": [
      "Setup Complete\n"
     ]
    }
   ],
   "source": [
    "import pandas as pd\n",
    "pd.plotting.register_matplotlib_converters()\n",
    "import matplotlib.pyplot as plt\n",
    "%matplotlib inline\n",
    "import seaborn as sns\n",
    "print(\"Setup Complete\")"
   ]
  },
  {
   "cell_type": "markdown",
   "id": "98d8db43",
   "metadata": {
    "papermill": {
     "duration": 0.005856,
     "end_time": "2023-12-13T06:55:05.159991",
     "exception": false,
     "start_time": "2023-12-13T06:55:05.154135",
     "status": "completed"
    },
    "tags": []
   },
   "source": [
    "The questions below will give you feedback on your work. Run the following cell to set up our feedback system."
   ]
  },
  {
   "cell_type": "code",
   "execution_count": 2,
   "id": "5f42e7f8",
   "metadata": {
    "execution": {
     "iopub.execute_input": "2023-12-13T06:55:05.173209Z",
     "iopub.status.busy": "2023-12-13T06:55:05.172771Z",
     "iopub.status.idle": "2023-12-13T06:55:05.224187Z",
     "shell.execute_reply": "2023-12-13T06:55:05.223426Z"
    },
    "papermill": {
     "duration": 0.059687,
     "end_time": "2023-12-13T06:55:05.225732",
     "exception": false,
     "start_time": "2023-12-13T06:55:05.166045",
     "status": "completed"
    },
    "tags": []
   },
   "outputs": [
    {
     "name": "stdout",
     "output_type": "stream",
     "text": [
      "Setup Complete\n"
     ]
    }
   ],
   "source": [
    "# Set up code checking\n",
    "import os\n",
    "if not os.path.exists(\"../input/candy.csv\"):\n",
    "    os.symlink(\"../input/data-for-datavis/candy.csv\", \"../input/candy.csv\") \n",
    "from learntools.core import binder\n",
    "binder.bind(globals())\n",
    "from learntools.data_viz_to_coder.ex4 import *\n",
    "print(\"Setup Complete\")"
   ]
  },
  {
   "cell_type": "markdown",
   "id": "a059631e",
   "metadata": {
    "papermill": {
     "duration": 0.005809,
     "end_time": "2023-12-13T06:55:05.237787",
     "exception": false,
     "start_time": "2023-12-13T06:55:05.231978",
     "status": "completed"
    },
    "tags": []
   },
   "source": [
    "## Step 1: Load the Data\n",
    "\n",
    "Read the candy data file into `candy_data`.  Use the `\"id\"` column to label the rows."
   ]
  },
  {
   "cell_type": "code",
   "execution_count": 3,
   "id": "69105a5a",
   "metadata": {
    "execution": {
     "iopub.execute_input": "2023-12-13T06:55:05.251422Z",
     "iopub.status.busy": "2023-12-13T06:55:05.250643Z",
     "iopub.status.idle": "2023-12-13T06:55:05.262473Z",
     "shell.execute_reply": "2023-12-13T06:55:05.261972Z"
    },
    "papermill": {
     "duration": 0.019983,
     "end_time": "2023-12-13T06:55:05.263852",
     "exception": false,
     "start_time": "2023-12-13T06:55:05.243869",
     "status": "completed"
    },
    "tags": []
   },
   "outputs": [
    {
     "data": {
      "application/javascript": [
       "parent.postMessage({\"jupyterEvent\": \"custom.exercise_interaction\", \"data\": {\"outcomeType\": 1, \"valueTowardsCompletion\": 0.3333333333333333, \"interactionType\": 1, \"questionType\": 1, \"questionId\": \"1_LoadData\", \"learnToolsVersion\": \"0.3.4\", \"failureMessage\": \"\", \"exceptionClass\": \"\", \"trace\": \"\"}}, \"*\")"
      ],
      "text/plain": [
       "<IPython.core.display.Javascript object>"
      ]
     },
     "metadata": {},
     "output_type": "display_data"
    },
    {
     "data": {
      "text/markdown": [
       "<span style=\"color:#33cc33\">Correct</span>"
      ],
      "text/plain": [
       "Correct"
      ]
     },
     "metadata": {},
     "output_type": "display_data"
    }
   ],
   "source": [
    "# Path of the file to read\n",
    "candy_filepath = \"../input/candy.csv\"\n",
    "\n",
    "# Fill in the line below to read the file into a variable candy_data\n",
    "candy_data = pd.read_csv(candy_filepath, index_col=\"id\")\n",
    "\n",
    "# Run the line below with no changes to check that you've loaded the data correctly\n",
    "step_1.check()"
   ]
  },
  {
   "cell_type": "code",
   "execution_count": 4,
   "id": "730cf313",
   "metadata": {
    "execution": {
     "iopub.execute_input": "2023-12-13T06:55:05.278210Z",
     "iopub.status.busy": "2023-12-13T06:55:05.277806Z",
     "iopub.status.idle": "2023-12-13T06:55:05.280438Z",
     "shell.execute_reply": "2023-12-13T06:55:05.279954Z"
    },
    "papermill": {
     "duration": 0.011274,
     "end_time": "2023-12-13T06:55:05.281776",
     "exception": false,
     "start_time": "2023-12-13T06:55:05.270502",
     "status": "completed"
    },
    "tags": []
   },
   "outputs": [],
   "source": [
    "# Lines below will give you a hint or solution code\n",
    "#step_1.hint()\n",
    "#step_1.solution()"
   ]
  },
  {
   "cell_type": "markdown",
   "id": "37347612",
   "metadata": {
    "papermill": {
     "duration": 0.006081,
     "end_time": "2023-12-13T06:55:05.294197",
     "exception": false,
     "start_time": "2023-12-13T06:55:05.288116",
     "status": "completed"
    },
    "tags": []
   },
   "source": [
    "## Step 2: Review the data\n",
    "\n",
    "Use a Python command to print the first five rows of the data."
   ]
  },
  {
   "cell_type": "code",
   "execution_count": 5,
   "id": "fd2bb297",
   "metadata": {
    "execution": {
     "iopub.execute_input": "2023-12-13T06:55:05.308097Z",
     "iopub.status.busy": "2023-12-13T06:55:05.307770Z",
     "iopub.status.idle": "2023-12-13T06:55:05.322610Z",
     "shell.execute_reply": "2023-12-13T06:55:05.322099Z"
    },
    "papermill": {
     "duration": 0.023573,
     "end_time": "2023-12-13T06:55:05.324009",
     "exception": false,
     "start_time": "2023-12-13T06:55:05.300436",
     "status": "completed"
    },
    "tags": []
   },
   "outputs": [
    {
     "data": {
      "text/html": [
       "<div>\n",
       "<style scoped>\n",
       "    .dataframe tbody tr th:only-of-type {\n",
       "        vertical-align: middle;\n",
       "    }\n",
       "\n",
       "    .dataframe tbody tr th {\n",
       "        vertical-align: top;\n",
       "    }\n",
       "\n",
       "    .dataframe thead th {\n",
       "        text-align: right;\n",
       "    }\n",
       "</style>\n",
       "<table border=\"1\" class=\"dataframe\">\n",
       "  <thead>\n",
       "    <tr style=\"text-align: right;\">\n",
       "      <th></th>\n",
       "      <th>competitorname</th>\n",
       "      <th>chocolate</th>\n",
       "      <th>fruity</th>\n",
       "      <th>caramel</th>\n",
       "      <th>peanutyalmondy</th>\n",
       "      <th>nougat</th>\n",
       "      <th>crispedricewafer</th>\n",
       "      <th>hard</th>\n",
       "      <th>bar</th>\n",
       "      <th>pluribus</th>\n",
       "      <th>sugarpercent</th>\n",
       "      <th>pricepercent</th>\n",
       "      <th>winpercent</th>\n",
       "    </tr>\n",
       "    <tr>\n",
       "      <th>id</th>\n",
       "      <th></th>\n",
       "      <th></th>\n",
       "      <th></th>\n",
       "      <th></th>\n",
       "      <th></th>\n",
       "      <th></th>\n",
       "      <th></th>\n",
       "      <th></th>\n",
       "      <th></th>\n",
       "      <th></th>\n",
       "      <th></th>\n",
       "      <th></th>\n",
       "      <th></th>\n",
       "    </tr>\n",
       "  </thead>\n",
       "  <tbody>\n",
       "    <tr>\n",
       "      <th>0</th>\n",
       "      <td>100 Grand</td>\n",
       "      <td>Yes</td>\n",
       "      <td>No</td>\n",
       "      <td>Yes</td>\n",
       "      <td>No</td>\n",
       "      <td>No</td>\n",
       "      <td>Yes</td>\n",
       "      <td>No</td>\n",
       "      <td>Yes</td>\n",
       "      <td>No</td>\n",
       "      <td>0.732</td>\n",
       "      <td>0.860</td>\n",
       "      <td>66.971725</td>\n",
       "    </tr>\n",
       "    <tr>\n",
       "      <th>1</th>\n",
       "      <td>3 Musketeers</td>\n",
       "      <td>Yes</td>\n",
       "      <td>No</td>\n",
       "      <td>No</td>\n",
       "      <td>No</td>\n",
       "      <td>Yes</td>\n",
       "      <td>No</td>\n",
       "      <td>No</td>\n",
       "      <td>Yes</td>\n",
       "      <td>No</td>\n",
       "      <td>0.604</td>\n",
       "      <td>0.511</td>\n",
       "      <td>67.602936</td>\n",
       "    </tr>\n",
       "    <tr>\n",
       "      <th>2</th>\n",
       "      <td>Air Heads</td>\n",
       "      <td>No</td>\n",
       "      <td>Yes</td>\n",
       "      <td>No</td>\n",
       "      <td>No</td>\n",
       "      <td>No</td>\n",
       "      <td>No</td>\n",
       "      <td>No</td>\n",
       "      <td>No</td>\n",
       "      <td>No</td>\n",
       "      <td>0.906</td>\n",
       "      <td>0.511</td>\n",
       "      <td>52.341465</td>\n",
       "    </tr>\n",
       "    <tr>\n",
       "      <th>3</th>\n",
       "      <td>Almond Joy</td>\n",
       "      <td>Yes</td>\n",
       "      <td>No</td>\n",
       "      <td>No</td>\n",
       "      <td>Yes</td>\n",
       "      <td>No</td>\n",
       "      <td>No</td>\n",
       "      <td>No</td>\n",
       "      <td>Yes</td>\n",
       "      <td>No</td>\n",
       "      <td>0.465</td>\n",
       "      <td>0.767</td>\n",
       "      <td>50.347546</td>\n",
       "    </tr>\n",
       "    <tr>\n",
       "      <th>4</th>\n",
       "      <td>Baby Ruth</td>\n",
       "      <td>Yes</td>\n",
       "      <td>No</td>\n",
       "      <td>Yes</td>\n",
       "      <td>Yes</td>\n",
       "      <td>Yes</td>\n",
       "      <td>No</td>\n",
       "      <td>No</td>\n",
       "      <td>Yes</td>\n",
       "      <td>No</td>\n",
       "      <td>0.604</td>\n",
       "      <td>0.767</td>\n",
       "      <td>56.914547</td>\n",
       "    </tr>\n",
       "  </tbody>\n",
       "</table>\n",
       "</div>"
      ],
      "text/plain": [
       "   competitorname chocolate fruity caramel peanutyalmondy nougat  \\\n",
       "id                                                                 \n",
       "0       100 Grand       Yes     No     Yes             No     No   \n",
       "1    3 Musketeers       Yes     No      No             No    Yes   \n",
       "2       Air Heads        No    Yes      No             No     No   \n",
       "3      Almond Joy       Yes     No      No            Yes     No   \n",
       "4       Baby Ruth       Yes     No     Yes            Yes    Yes   \n",
       "\n",
       "   crispedricewafer hard  bar pluribus  sugarpercent  pricepercent  winpercent  \n",
       "id                                                                              \n",
       "0               Yes   No  Yes       No         0.732         0.860   66.971725  \n",
       "1                No   No  Yes       No         0.604         0.511   67.602936  \n",
       "2                No   No   No       No         0.906         0.511   52.341465  \n",
       "3                No   No  Yes       No         0.465         0.767   50.347546  \n",
       "4                No   No  Yes       No         0.604         0.767   56.914547  "
      ]
     },
     "execution_count": 5,
     "metadata": {},
     "output_type": "execute_result"
    }
   ],
   "source": [
    "# Print the first five rows of the data\n",
    "candy_data.head() # Your code here"
   ]
  },
  {
   "cell_type": "markdown",
   "id": "3550ba93",
   "metadata": {
    "papermill": {
     "duration": 0.006433,
     "end_time": "2023-12-13T06:55:05.337021",
     "exception": false,
     "start_time": "2023-12-13T06:55:05.330588",
     "status": "completed"
    },
    "tags": []
   },
   "source": [
    "The dataset contains 83 rows, where each corresponds to a different candy bar.  There are 13 columns:\n",
    "- `'competitorname'` contains the name of the candy bar. \n",
    "- the next **9** columns (from `'chocolate'` to `'pluribus'`) describe the candy.  For instance, rows with chocolate candies have `\"Yes\"` in the `'chocolate'` column (and candies without chocolate have `\"No\"` in the same column).\n",
    "- `'sugarpercent'` provides some indication of the amount of sugar, where higher values signify higher sugar content.\n",
    "- `'pricepercent'` shows the price per unit, relative to the other candies in the dataset.\n",
    "- `'winpercent'` is calculated from the survey results; higher values indicate that the candy was more popular with survey respondents.\n",
    "\n",
    "Use the first five rows of the data to answer the questions below."
   ]
  },
  {
   "cell_type": "code",
   "execution_count": 6,
   "id": "d182dbd1",
   "metadata": {
    "execution": {
     "iopub.execute_input": "2023-12-13T06:55:05.351714Z",
     "iopub.status.busy": "2023-12-13T06:55:05.351315Z",
     "iopub.status.idle": "2023-12-13T06:55:05.357012Z",
     "shell.execute_reply": "2023-12-13T06:55:05.356385Z"
    },
    "papermill": {
     "duration": 0.015098,
     "end_time": "2023-12-13T06:55:05.358644",
     "exception": false,
     "start_time": "2023-12-13T06:55:05.343546",
     "status": "completed"
    },
    "tags": []
   },
   "outputs": [
    {
     "data": {
      "application/javascript": [
       "parent.postMessage({\"jupyterEvent\": \"custom.exercise_interaction\", \"data\": {\"outcomeType\": 1, \"valueTowardsCompletion\": 0.3333333333333333, \"interactionType\": 1, \"questionType\": 1, \"questionId\": \"2_ReviewData\", \"learnToolsVersion\": \"0.3.4\", \"failureMessage\": \"\", \"exceptionClass\": \"\", \"trace\": \"\"}}, \"*\")"
      ],
      "text/plain": [
       "<IPython.core.display.Javascript object>"
      ]
     },
     "metadata": {},
     "output_type": "display_data"
    },
    {
     "data": {
      "text/markdown": [
       "<span style=\"color:#33cc33\">Correct</span>"
      ],
      "text/plain": [
       "Correct"
      ]
     },
     "metadata": {},
     "output_type": "display_data"
    }
   ],
   "source": [
    "# Fill in the line below: Which candy was more popular with survey respondents:\n",
    "# '3 Musketeers' or 'Almond Joy'?  (Please enclose your answer in single quotes.)\n",
    "more_popular = '3 Musketeers'\n",
    "\n",
    "# Fill in the line below: Which candy has higher sugar content: 'Air Heads'\n",
    "# or 'Baby Ruth'? (Please enclose your answer in single quotes.)\n",
    "more_sugar = 'Air Heads'\n",
    "\n",
    "# Check your answers\n",
    "step_2.check()"
   ]
  },
  {
   "cell_type": "code",
   "execution_count": 7,
   "id": "78914adc",
   "metadata": {
    "execution": {
     "iopub.execute_input": "2023-12-13T06:55:05.373529Z",
     "iopub.status.busy": "2023-12-13T06:55:05.373169Z",
     "iopub.status.idle": "2023-12-13T06:55:05.376205Z",
     "shell.execute_reply": "2023-12-13T06:55:05.375649Z"
    },
    "papermill": {
     "duration": 0.012065,
     "end_time": "2023-12-13T06:55:05.377667",
     "exception": false,
     "start_time": "2023-12-13T06:55:05.365602",
     "status": "completed"
    },
    "tags": []
   },
   "outputs": [],
   "source": [
    "# Lines below will give you a hint or solution code\n",
    "#step_2.hint()\n",
    "#step_2.solution()"
   ]
  },
  {
   "cell_type": "markdown",
   "id": "21694272",
   "metadata": {
    "papermill": {
     "duration": 0.006722,
     "end_time": "2023-12-13T06:55:05.391241",
     "exception": false,
     "start_time": "2023-12-13T06:55:05.384519",
     "status": "completed"
    },
    "tags": []
   },
   "source": [
    "## Step 3: The role of sugar\n",
    "\n",
    "Do people tend to prefer candies with higher sugar content?  \n",
    "\n",
    "#### Part A\n",
    "\n",
    "Create a scatter plot that shows the relationship between `'sugarpercent'` (on the horizontal x-axis) and `'winpercent'` (on the vertical y-axis).  _Don't add a regression line just yet -- you'll do that in the next step!_"
   ]
  },
  {
   "cell_type": "code",
   "execution_count": 8,
   "id": "164d36f6",
   "metadata": {
    "execution": {
     "iopub.execute_input": "2023-12-13T06:55:05.406042Z",
     "iopub.status.busy": "2023-12-13T06:55:05.405647Z",
     "iopub.status.idle": "2023-12-13T06:55:05.631500Z",
     "shell.execute_reply": "2023-12-13T06:55:05.630643Z"
    },
    "papermill": {
     "duration": 0.235244,
     "end_time": "2023-12-13T06:55:05.633333",
     "exception": false,
     "start_time": "2023-12-13T06:55:05.398089",
     "status": "completed"
    },
    "tags": []
   },
   "outputs": [
    {
     "data": {
      "application/javascript": [
       "parent.postMessage({\"jupyterEvent\": \"custom.exercise_interaction\", \"data\": {\"outcomeType\": 1, \"valueTowardsCompletion\": 0.3333333333333333, \"interactionType\": 1, \"questionType\": 2, \"questionId\": \"3.1_PlotBlueScatter\", \"learnToolsVersion\": \"0.3.4\", \"failureMessage\": \"\", \"exceptionClass\": \"\", \"trace\": \"\"}}, \"*\")"
      ],
      "text/plain": [
       "<IPython.core.display.Javascript object>"
      ]
     },
     "metadata": {},
     "output_type": "display_data"
    },
    {
     "data": {
      "text/markdown": [
       "<span style=\"color:#33cc33\">Correct</span>"
      ],
      "text/plain": [
       "Correct"
      ]
     },
     "metadata": {},
     "output_type": "display_data"
    },
    {
     "data": {
      "image/png": "[encoded data removed]",
      "text/plain": [
       "<Figure size 640x480 with 1 Axes>"
      ]
     },
     "metadata": {},
     "output_type": "display_data"
    }
   ],
   "source": [
    "# Scatter plot showing the relationship between 'sugarpercent' and 'winpercent'\n",
    "sns.scatterplot(x=candy_data['sugarpercent'], y=candy_data['winpercent']) # Your code here\n",
    "\n",
    "# Check your answer\n",
    "step_3.a.check()"
   ]
  },
  {
   "cell_type": "code",
   "execution_count": 9,
   "id": "27e7c59c",
   "metadata": {
    "execution": {
     "iopub.execute_input": "2023-12-13T06:55:05.650116Z",
     "iopub.status.busy": "2023-12-13T06:55:05.649517Z",
     "iopub.status.idle": "2023-12-13T06:55:05.652657Z",
     "shell.execute_reply": "2023-12-13T06:55:05.652117Z"
    },
    "papermill": {
     "duration": 0.013092,
     "end_time": "2023-12-13T06:55:05.654059",
     "exception": false,
     "start_time": "2023-12-13T06:55:05.640967",
     "status": "completed"
    },
    "tags": []
   },
   "outputs": [],
   "source": [
    "# Lines below will give you a hint or solution code\n",
    "#step_3.a.hint()\n",
    "#step_3.a.solution_plot()"
   ]
  },
  {
   "cell_type": "markdown",
   "id": "f8c83c69",
   "metadata": {
    "papermill": {
     "duration": 0.007184,
     "end_time": "2023-12-13T06:55:05.668538",
     "exception": false,
     "start_time": "2023-12-13T06:55:05.661354",
     "status": "completed"
    },
    "tags": []
   },
   "source": [
    "#### Part B\n",
    "\n",
    "Does the scatter plot show a **strong** correlation between the two variables?  If so, are candies with more sugar relatively more or less popular with the survey respondents?"
   ]
  },
  {
   "cell_type": "code",
   "execution_count": 10,
   "id": "4b6c2fe9",
   "metadata": {
    "execution": {
     "iopub.execute_input": "2023-12-13T06:55:05.684278Z",
     "iopub.status.busy": "2023-12-13T06:55:05.683856Z",
     "iopub.status.idle": "2023-12-13T06:55:05.686671Z",
     "shell.execute_reply": "2023-12-13T06:55:05.686147Z"
    },
    "papermill": {
     "duration": 0.012238,
     "end_time": "2023-12-13T06:55:05.688034",
     "exception": false,
     "start_time": "2023-12-13T06:55:05.675796",
     "status": "completed"
    },
    "tags": []
   },
   "outputs": [],
   "source": [
    "#step_3.b.hint()"
   ]
  },
  {
   "cell_type": "code",
   "execution_count": 11,
   "id": "c4b3e5f5",
   "metadata": {
    "execution": {
     "iopub.execute_input": "2023-12-13T06:55:05.703841Z",
     "iopub.status.busy": "2023-12-13T06:55:05.703449Z",
     "iopub.status.idle": "2023-12-13T06:55:05.709029Z",
     "shell.execute_reply": "2023-12-13T06:55:05.708289Z"
    },
    "papermill": {
     "duration": 0.015271,
     "end_time": "2023-12-13T06:55:05.710637",
     "exception": false,
     "start_time": "2023-12-13T06:55:05.695366",
     "status": "completed"
    },
    "tags": []
   },
   "outputs": [
    {
     "data": {
      "application/javascript": [
       "parent.postMessage({\"jupyterEvent\": \"custom.exercise_interaction\", \"data\": {\"interactionType\": 3, \"questionType\": 4, \"questionId\": \"3.2_ThinkBlueScatter\", \"learnToolsVersion\": \"0.3.4\", \"valueTowardsCompletion\": 0.0, \"failureMessage\": \"\", \"exceptionClass\": \"\", \"trace\": \"\", \"outcomeType\": 4}}, \"*\")"
      ],
      "text/plain": [
       "<IPython.core.display.Javascript object>"
      ]
     },
     "metadata": {},
     "output_type": "display_data"
    },
    {
     "data": {
      "text/markdown": [
       "<span style=\"color:#33cc99\">Solution:</span> The scatter plot does not show a strong correlation between the two variables. Since there is no clear relationship between the two variables, this tells us that sugar content does not play a strong role in candy popularity."
      ],
      "text/plain": [
       "Solution: The scatter plot does not show a strong correlation between the two variables. Since there is no clear relationship between the two variables, this tells us that sugar content does not play a strong role in candy popularity."
      ]
     },
     "metadata": {},
     "output_type": "display_data"
    }
   ],
   "source": [
    "# Check your answer (Run this code cell to receive credit!)\n",
    "step_3.b.solution()"
   ]
  },
  {
   "cell_type": "markdown",
   "id": "d53c186e",
   "metadata": {
    "papermill": {
     "duration": 0.007508,
     "end_time": "2023-12-13T06:55:05.725678",
     "exception": false,
     "start_time": "2023-12-13T06:55:05.718170",
     "status": "completed"
    },
    "tags": []
   },
   "source": [
    "## Step 4: Take a closer look\n",
    "\n",
    "#### Part A\n",
    "\n",
    "Create the same scatter plot you created in **Step 3**, but now with a regression line!"
   ]
  },
  {
   "cell_type": "code",
   "execution_count": 12,
   "id": "1f36f68a",
   "metadata": {
    "execution": {
     "iopub.execute_input": "2023-12-13T06:55:05.741758Z",
     "iopub.status.busy": "2023-12-13T06:55:05.741534Z",
     "iopub.status.idle": "2023-12-13T06:55:06.020066Z",
     "shell.execute_reply": "2023-12-13T06:55:06.019199Z"
    },
    "papermill": {
     "duration": 0.288627,
     "end_time": "2023-12-13T06:55:06.021829",
     "exception": false,
     "start_time": "2023-12-13T06:55:05.733202",
     "status": "completed"
    },
    "tags": []
   },
   "outputs": [
    {
     "data": {
      "application/javascript": [
       "parent.postMessage({\"jupyterEvent\": \"custom.exercise_interaction\", \"data\": {\"outcomeType\": 1, \"valueTowardsCompletion\": 0.3333333333333333, \"interactionType\": 1, \"questionType\": 2, \"questionId\": \"4.1_PlotBlueReg\", \"learnToolsVersion\": \"0.3.4\", \"failureMessage\": \"\", \"exceptionClass\": \"\", \"trace\": \"\"}}, \"*\")"
      ],
      "text/plain": [
       "<IPython.core.display.Javascript object>"
      ]
     },
     "metadata": {},
     "output_type": "display_data"
    },
    {
     "data": {
      "text/markdown": [
       "<span style=\"color:#33cc33\">Correct</span>"
      ],
      "text/plain": [
       "Correct"
      ]
     },
     "metadata": {},
     "output_type": "display_data"
    },
    {
     "data": {
      "image/png": "[encoded data removed]",
      "text/plain": [
       "<Figure size 640x480 with 1 Axes>"
      ]
     },
     "metadata": {},
     "output_type": "display_data"
    }
   ],
   "source": [
    "# Scatter plot w/ regression line showing the relationship between 'sugarpercent' and 'winpercent'\n",
    "sns.regplot(x=candy_data['sugarpercent'], y=candy_data['winpercent']) # Your code here\n",
    "\n",
    "# Check your answer\n",
    "step_4.a.check()"
   ]
  },
  {
   "cell_type": "code",
   "execution_count": 13,
   "id": "93570213",
   "metadata": {
    "execution": {
     "iopub.execute_input": "2023-12-13T06:55:06.039889Z",
     "iopub.status.busy": "2023-12-13T06:55:06.039635Z",
     "iopub.status.idle": "2023-12-13T06:55:06.042923Z",
     "shell.execute_reply": "2023-12-13T06:55:06.042169Z"
    },
    "papermill": {
     "duration": 0.014241,
     "end_time": "2023-12-13T06:55:06.044510",
     "exception": false,
     "start_time": "2023-12-13T06:55:06.030269",
     "status": "completed"
    },
    "tags": []
   },
   "outputs": [],
   "source": [
    "# Lines below will give you a hint or solution code\n",
    "#step_4.a.hint()\n",
    "#step_4.a.solution_plot()"
   ]
  },
  {
   "cell_type": "markdown",
   "id": "17a5ead7",
   "metadata": {
    "papermill": {
     "duration": 0.047805,
     "end_time": "2023-12-13T06:55:06.101476",
     "exception": false,
     "start_time": "2023-12-13T06:55:06.053671",
     "status": "completed"
    },
    "tags": []
   },
   "source": [
    "#### Part B\n",
    "\n",
    "According to the plot above, is there a **slight** correlation between `'winpercent'` and `'sugarpercent'`?  What does this tell you about the candy that people tend to prefer?"
   ]
  },
  {
   "cell_type": "code",
   "execution_count": 14,
   "id": "f6d197ce",
   "metadata": {
    "execution": {
     "iopub.execute_input": "2023-12-13T06:55:06.119187Z",
     "iopub.status.busy": "2023-12-13T06:55:06.118946Z",
     "iopub.status.idle": "2023-12-13T06:55:06.122157Z",
     "shell.execute_reply": "2023-12-13T06:55:06.121318Z"
    },
    "papermill": {
     "duration": 0.013786,
     "end_time": "2023-12-13T06:55:06.123626",
     "exception": false,
     "start_time": "2023-12-13T06:55:06.109840",
     "status": "completed"
    },
    "tags": []
   },
   "outputs": [],
   "source": [
    "#step_4.b.hint()"
   ]
  },
  {
   "cell_type": "code",
   "execution_count": 15,
   "id": "f57a6ef2",
   "metadata": {
    "execution": {
     "iopub.execute_input": "2023-12-13T06:55:06.141815Z",
     "iopub.status.busy": "2023-12-13T06:55:06.141016Z",
     "iopub.status.idle": "2023-12-13T06:55:06.146764Z",
     "shell.execute_reply": "2023-12-13T06:55:06.146237Z"
    },
    "papermill": {
     "duration": 0.0161,
     "end_time": "2023-12-13T06:55:06.148109",
     "exception": false,
     "start_time": "2023-12-13T06:55:06.132009",
     "status": "completed"
    },
    "tags": []
   },
   "outputs": [
    {
     "data": {
      "application/javascript": [
       "parent.postMessage({\"jupyterEvent\": \"custom.exercise_interaction\", \"data\": {\"interactionType\": 3, \"questionType\": 4, \"questionId\": \"4.2_ThinkBlueReg\", \"learnToolsVersion\": \"0.3.4\", \"valueTowardsCompletion\": 0.0, \"failureMessage\": \"\", \"exceptionClass\": \"\", \"trace\": \"\", \"outcomeType\": 4}}, \"*\")"
      ],
      "text/plain": [
       "<IPython.core.display.Javascript object>"
      ]
     },
     "metadata": {},
     "output_type": "display_data"
    },
    {
     "data": {
      "text/markdown": [
       "<span style=\"color:#33cc99\">Solution:</span> Since the regression line has a slightly positive slope, this tells us that there is a slightly positive correlation between `'winpercent'` and `'sugarpercent'`. Thus, people have a slight preference for candies containing relatively more sugar."
      ],
      "text/plain": [
       "Solution: Since the regression line has a slightly positive slope, this tells us that there is a slightly positive correlation between `'winpercent'` and `'sugarpercent'`. Thus, people have a slight preference for candies containing relatively more sugar."
      ]
     },
     "metadata": {},
     "output_type": "display_data"
    }
   ],
   "source": [
    "# Check your answer (Run this code cell to receive credit!)\n",
    "step_4.b.solution()"
   ]
  },
  {
   "cell_type": "markdown",
   "id": "1065445e",
   "metadata": {
    "papermill": {
     "duration": 0.008367,
     "end_time": "2023-12-13T06:55:06.165127",
     "exception": false,
     "start_time": "2023-12-13T06:55:06.156760",
     "status": "completed"
    },
    "tags": []
   },
   "source": [
    "## Step 5: Chocolate!\n",
    "\n",
    "In the code cell below, create a scatter plot to show the relationship between `'pricepercent'` (on the horizontal x-axis) and `'winpercent'` (on the vertical y-axis). Use the `'chocolate'` column to color-code the points.  _Don't add any regression lines just yet -- you'll do that in the next step!_"
   ]
  },
  {
   "cell_type": "code",
   "execution_count": 16,
   "id": "09ac418b",
   "metadata": {
    "execution": {
     "iopub.execute_input": "2023-12-13T06:55:06.183605Z",
     "iopub.status.busy": "2023-12-13T06:55:06.183012Z",
     "iopub.status.idle": "2023-12-13T06:55:06.436037Z",
     "shell.execute_reply": "2023-12-13T06:55:06.435455Z"
    },
    "papermill": {
     "duration": 0.263647,
     "end_time": "2023-12-13T06:55:06.437443",
     "exception": false,
     "start_time": "2023-12-13T06:55:06.173796",
     "status": "completed"
    },
    "tags": []
   },
   "outputs": [
    {
     "data": {
      "application/javascript": [
       "parent.postMessage({\"jupyterEvent\": \"custom.exercise_interaction\", \"data\": {\"outcomeType\": 1, \"valueTowardsCompletion\": 0.3333333333333333, \"interactionType\": 1, \"questionType\": 2, \"questionId\": \"5_ColorScatter\", \"learnToolsVersion\": \"0.3.4\", \"failureMessage\": \"\", \"exceptionClass\": \"\", \"trace\": \"\"}}, \"*\")"
      ],
      "text/plain": [
       "<IPython.core.display.Javascript object>"
      ]
     },
     "metadata": {},
     "output_type": "display_data"
    },
    {
     "data": {
      "text/markdown": [
       "<span style=\"color:#33cc33\">Correct</span>"
      ],
      "text/plain": [
       "Correct"
      ]
     },
     "metadata": {},
     "output_type": "display_data"
    },
    {
     "data": {
      "image/png": "[encoded data removed]",
      "text/plain": [
       "<Figure size 640x480 with 1 Axes>"
      ]
     },
     "metadata": {},
     "output_type": "display_data"
    }
   ],
   "source": [
    "# Scatter plot showing the relationship between 'pricepercent', 'winpercent', and 'chocolate'\n",
    "sns.scatterplot(x='pricepercent', y='winpercent', hue='chocolate', data=candy_data) # Your code here\n",
    "\n",
    "# Check your answer\n",
    "step_5.check()"
   ]
  },
  {
   "cell_type": "code",
   "execution_count": 17,
   "id": "a6febf0b",
   "metadata": {
    "execution": {
     "iopub.execute_input": "2023-12-13T06:55:06.458215Z",
     "iopub.status.busy": "2023-12-13T06:55:06.456958Z",
     "iopub.status.idle": "2023-12-13T06:55:06.461275Z",
     "shell.execute_reply": "2023-12-13T06:55:06.460757Z"
    },
    "papermill": {
     "duration": 0.015865,
     "end_time": "2023-12-13T06:55:06.462878",
     "exception": false,
     "start_time": "2023-12-13T06:55:06.447013",
     "status": "completed"
    },
    "tags": []
   },
   "outputs": [],
   "source": [
    "# Lines below will give you a hint or solution code\n",
    "#step_5.hint()\n",
    "#step_5.solution_plot()"
   ]
  },
  {
   "cell_type": "markdown",
   "id": "8fb97134",
   "metadata": {
    "papermill": {
     "duration": 0.008972,
     "end_time": "2023-12-13T06:55:06.481082",
     "exception": false,
     "start_time": "2023-12-13T06:55:06.472110",
     "status": "completed"
    },
    "tags": []
   },
   "source": [
    "Can you see any interesting patterns in the scatter plot?  We'll investigate this plot further  by adding regression lines in the next step!\n",
    "\n",
    "## Step 6: Investigate chocolate\n",
    "\n",
    "#### Part A\n",
    "\n",
    "Create the same scatter plot you created in **Step 5**, but now with two regression lines, corresponding to (1) chocolate candies and (2) candies without chocolate."
   ]
  },
  {
   "cell_type": "code",
   "execution_count": 18,
   "id": "0a858e95",
   "metadata": {
    "execution": {
     "iopub.execute_input": "2023-12-13T06:55:06.501014Z",
     "iopub.status.busy": "2023-12-13T06:55:06.500384Z",
     "iopub.status.idle": "2023-12-13T06:55:07.069639Z",
     "shell.execute_reply": "2023-12-13T06:55:07.068359Z"
    },
    "papermill": {
     "duration": 0.580924,
     "end_time": "2023-12-13T06:55:07.071268",
     "exception": false,
     "start_time": "2023-12-13T06:55:06.490344",
     "status": "completed"
    },
    "tags": []
   },
   "outputs": [
    {
     "data": {
      "application/javascript": [
       "parent.postMessage({\"jupyterEvent\": \"custom.exercise_interaction\", \"data\": {\"outcomeType\": 1, \"valueTowardsCompletion\": 0.3333333333333333, \"interactionType\": 1, \"questionType\": 2, \"questionId\": \"6.1_PlotColorReg\", \"learnToolsVersion\": \"0.3.4\", \"failureMessage\": \"\", \"exceptionClass\": \"\", \"trace\": \"\"}}, \"*\")"
      ],
      "text/plain": [
       "<IPython.core.display.Javascript object>"
      ]
     },
     "metadata": {},
     "output_type": "display_data"
    },
    {
     "data": {
      "text/markdown": [
       "<span style=\"color:#33cc33\">Correct</span>"
      ],
      "text/plain": [
       "Correct"
      ]
     },
     "metadata": {},
     "output_type": "display_data"
    },
    {
     "data": {
      "image/png": "[encoded data removed]",
      "text/plain": [
       "<Figure size 578.611x500 with 1 Axes>"
      ]
     },
     "metadata": {},
     "output_type": "display_data"
    }
   ],
   "source": [
    "# Color-coded scatter plot w/ regression lines\n",
    "sns.lmplot(x='pricepercent', y='winpercent', hue='chocolate', data=candy_data) # Your code here\n",
    "\n",
    "# Check your answer\n",
    "step_6.a.check()"
   ]
  },
  {
   "cell_type": "code",
   "execution_count": 19,
   "id": "1e11eb2f",
   "metadata": {
    "execution": {
     "iopub.execute_input": "2023-12-13T06:55:07.092295Z",
     "iopub.status.busy": "2023-12-13T06:55:07.092023Z",
     "iopub.status.idle": "2023-12-13T06:55:07.095230Z",
     "shell.execute_reply": "2023-12-13T06:55:07.094460Z"
    },
    "papermill": {
     "duration": 0.015712,
     "end_time": "2023-12-13T06:55:07.097128",
     "exception": false,
     "start_time": "2023-12-13T06:55:07.081416",
     "status": "completed"
    },
    "tags": []
   },
   "outputs": [],
   "source": [
    "# Lines below will give you a hint or solution code\n",
    "#step_6.a.hint()\n",
    "#step_6.a.solution_plot()"
   ]
  },
  {
   "cell_type": "markdown",
   "id": "d9153134",
   "metadata": {
    "papermill": {
     "duration": 0.009732,
     "end_time": "2023-12-13T06:55:07.117471",
     "exception": false,
     "start_time": "2023-12-13T06:55:07.107739",
     "status": "completed"
    },
    "tags": []
   },
   "source": [
    "#### Part B\n",
    "\n",
    "Using the regression lines, what conclusions can you draw about the effects of chocolate and price on candy popularity?"
   ]
  },
  {
   "cell_type": "code",
   "execution_count": 20,
   "id": "b876344b",
   "metadata": {
    "execution": {
     "iopub.execute_input": "2023-12-13T06:55:07.138524Z",
     "iopub.status.busy": "2023-12-13T06:55:07.138269Z",
     "iopub.status.idle": "2023-12-13T06:55:07.141589Z",
     "shell.execute_reply": "2023-12-13T06:55:07.140850Z"
    },
    "papermill": {
     "duration": 0.015814,
     "end_time": "2023-12-13T06:55:07.143127",
     "exception": false,
     "start_time": "2023-12-13T06:55:07.127313",
     "status": "completed"
    },
    "tags": []
   },
   "outputs": [],
   "source": [
    "#step_6.b.hint()"
   ]
  },
  {
   "cell_type": "code",
   "execution_count": 21,
   "id": "5520f336",
   "metadata": {
    "execution": {
     "iopub.execute_input": "2023-12-13T06:55:07.164267Z",
     "iopub.status.busy": "2023-12-13T06:55:07.164061Z",
     "iopub.status.idle": "2023-12-13T06:55:07.170241Z",
     "shell.execute_reply": "2023-12-13T06:55:07.169449Z"
    },
    "papermill": {
     "duration": 0.018533,
     "end_time": "2023-12-13T06:55:07.171867",
     "exception": false,
     "start_time": "2023-12-13T06:55:07.153334",
     "status": "completed"
    },
    "tags": []
   },
   "outputs": [
    {
     "data": {
      "application/javascript": [
       "parent.postMessage({\"jupyterEvent\": \"custom.exercise_interaction\", \"data\": {\"interactionType\": 3, \"questionType\": 4, \"questionId\": \"6.2_ThinkColorReg\", \"learnToolsVersion\": \"0.3.4\", \"valueTowardsCompletion\": 0.0, \"failureMessage\": \"\", \"exceptionClass\": \"\", \"trace\": \"\", \"outcomeType\": 4}}, \"*\")"
      ],
      "text/plain": [
       "<IPython.core.display.Javascript object>"
      ]
     },
     "metadata": {},
     "output_type": "display_data"
    },
    {
     "data": {
      "text/markdown": [
       "<span style=\"color:#33cc99\">Solution:</span> We'll begin with the regression line for chocolate candies. Since this line has a slightly positive slope, we can say that more expensive chocolate candies tend to be more popular (than relatively cheaper chocolate candies).  Likewise, since the regression line for candies without chocolate has a negative slope, we can say that if candies don't contain chocolate, they tend to be more popular when they are cheaper.  One important note, however, is that the dataset is quite small -- so we shouldn't invest too much trust in these patterns!  To inspire more confidence in the results, we should add more candies to the dataset."
      ],
      "text/plain": [
       "Solution: We'll begin with the regression line for chocolate candies. Since this line has a slightly positive slope, we can say that more expensive chocolate candies tend to be more popular (than relatively cheaper chocolate candies).  Likewise, since the regression line for candies without chocolate has a negative slope, we can say that if candies don't contain chocolate, they tend to be more popular when they are cheaper.  One important note, however, is that the dataset is quite small -- so we shouldn't invest too much trust in these patterns!  To inspire more confidence in the results, we should add more candies to the dataset."
      ]
     },
     "metadata": {},
     "output_type": "display_data"
    }
   ],
   "source": [
    "# Check your answer (Run this code cell to receive credit!)\n",
    "step_6.b.solution()"
   ]
  },
  {
   "cell_type": "markdown",
   "id": "ea8f63df",
   "metadata": {
    "papermill": {
     "duration": 0.00996,
     "end_time": "2023-12-13T06:55:07.192514",
     "exception": false,
     "start_time": "2023-12-13T06:55:07.182554",
     "status": "completed"
    },
    "tags": []
   },
   "source": [
    "## Step 7: Everybody loves chocolate.\n",
    "\n",
    "#### Part A\n",
    "\n",
    "Create a categorical scatter plot to highlight the relationship between `'chocolate'` and `'winpercent'`.  Put `'chocolate'` on the (horizontal) x-axis, and `'winpercent'` on the (vertical) y-axis."
   ]
  },
  {
   "cell_type": "code",
   "execution_count": 22,
   "id": "f24595f4",
   "metadata": {
    "execution": {
     "iopub.execute_input": "2023-12-13T06:55:07.214015Z",
     "iopub.status.busy": "2023-12-13T06:55:07.213614Z",
     "iopub.status.idle": "2023-12-13T06:55:07.222651Z",
     "shell.execute_reply": "2023-12-13T06:55:07.221956Z"
    },
    "papermill": {
     "duration": 0.021657,
     "end_time": "2023-12-13T06:55:07.224264",
     "exception": false,
     "start_time": "2023-12-13T06:55:07.202607",
     "status": "completed"
    },
    "tags": []
   },
   "outputs": [
    {
     "data": {
      "application/javascript": [
       "parent.postMessage({\"jupyterEvent\": \"custom.exercise_interaction\", \"data\": {\"outcomeType\": 2, \"failureMessage\": \"Please write code to create a categorical scatter plot.\", \"interactionType\": 1, \"questionType\": 2, \"questionId\": \"7.1_PlotSwarm\", \"learnToolsVersion\": \"0.3.4\", \"valueTowardsCompletion\": 0.0, \"exceptionClass\": \"\", \"trace\": \"\"}}, \"*\")"
      ],
      "text/plain": [
       "<IPython.core.display.Javascript object>"
      ]
     },
     "metadata": {},
     "output_type": "display_data"
    },
    {
     "data": {
      "text/markdown": [
       "<span style=\"color:#cc3333\">Incorrect:</span> Please write code to create a categorical scatter plot."
      ],
      "text/plain": [
       "Incorrect: Please write code to create a categorical scatter plot."
      ]
     },
     "metadata": {},
     "output_type": "display_data"
    },
    {
     "data": {
      "text/plain": [
       "<Figure size 640x480 with 0 Axes>"
      ]
     },
     "metadata": {},
     "output_type": "display_data"
    }
   ],
   "source": [
    "# Scatter plot showing the relationship between 'chocolate' and 'winpercent'\n",
    "____ # Your code here\n",
    "\n",
    "# Check your answer\n",
    "step_7.a.check()"
   ]
  },
  {
   "cell_type": "code",
   "execution_count": 23,
   "id": "c921aab5",
   "metadata": {
    "execution": {
     "iopub.execute_input": "2023-12-13T06:55:07.246460Z",
     "iopub.status.busy": "2023-12-13T06:55:07.246113Z",
     "iopub.status.idle": "2023-12-13T06:55:07.249180Z",
     "shell.execute_reply": "2023-12-13T06:55:07.248387Z"
    },
    "papermill": {
     "duration": 0.015841,
     "end_time": "2023-12-13T06:55:07.250703",
     "exception": false,
     "start_time": "2023-12-13T06:55:07.234862",
     "status": "completed"
    },
    "tags": []
   },
   "outputs": [],
   "source": [
    "# Lines below will give you a hint or solution code\n",
    "#step_7.a.hint()\n",
    "#step_7.a.solution_plot()"
   ]
  },
  {
   "cell_type": "markdown",
   "id": "b4ab7503",
   "metadata": {
    "papermill": {
     "duration": 0.010409,
     "end_time": "2023-12-13T06:55:07.271806",
     "exception": false,
     "start_time": "2023-12-13T06:55:07.261397",
     "status": "completed"
    },
    "tags": []
   },
   "source": [
    "#### Part B\n",
    "\n",
    "You decide to dedicate a section of your report to the fact that chocolate candies tend to be more popular than candies without chocolate.  Which plot is more appropriate to tell this story: the plot from **Step 6**, or the plot from **Step 7**?"
   ]
  },
  {
   "cell_type": "code",
   "execution_count": 24,
   "id": "f1119b9c",
   "metadata": {
    "execution": {
     "iopub.execute_input": "2023-12-13T06:55:07.293790Z",
     "iopub.status.busy": "2023-12-13T06:55:07.293576Z",
     "iopub.status.idle": "2023-12-13T06:55:07.296500Z",
     "shell.execute_reply": "2023-12-13T06:55:07.295805Z"
    },
    "papermill": {
     "duration": 0.01576,
     "end_time": "2023-12-13T06:55:07.298064",
     "exception": false,
     "start_time": "2023-12-13T06:55:07.282304",
     "status": "completed"
    },
    "tags": []
   },
   "outputs": [],
   "source": [
    "#step_7.b.hint()"
   ]
  },
  {
   "cell_type": "code",
   "execution_count": 25,
   "id": "d9438656",
   "metadata": {
    "execution": {
     "iopub.execute_input": "2023-12-13T06:55:07.320270Z",
     "iopub.status.busy": "2023-12-13T06:55:07.320056Z",
     "iopub.status.idle": "2023-12-13T06:55:07.326221Z",
     "shell.execute_reply": "2023-12-13T06:55:07.325485Z"
    },
    "papermill": {
     "duration": 0.019143,
     "end_time": "2023-12-13T06:55:07.327820",
     "exception": false,
     "start_time": "2023-12-13T06:55:07.308677",
     "status": "completed"
    },
    "tags": []
   },
   "outputs": [
    {
     "data": {
      "application/javascript": [
       "parent.postMessage({\"jupyterEvent\": \"custom.exercise_interaction\", \"data\": {\"interactionType\": 3, \"questionType\": 4, \"questionId\": \"7.2_ThinkSwarm\", \"learnToolsVersion\": \"0.3.4\", \"valueTowardsCompletion\": 0.0, \"failureMessage\": \"\", \"exceptionClass\": \"\", \"trace\": \"\", \"outcomeType\": 4}}, \"*\")"
      ],
      "text/plain": [
       "<IPython.core.display.Javascript object>"
      ]
     },
     "metadata": {},
     "output_type": "display_data"
    },
    {
     "data": {
      "text/markdown": [
       "<span style=\"color:#33cc99\">Solution:</span> In this case, the categorical scatter plot from **Step 7** is the more appropriate plot. While both plots tell the desired story, the plot from **Step 6** conveys far more information that could distract from the main point."
      ],
      "text/plain": [
       "Solution: In this case, the categorical scatter plot from **Step 7** is the more appropriate plot. While both plots tell the desired story, the plot from **Step 6** conveys far more information that could distract from the main point."
      ]
     },
     "metadata": {},
     "output_type": "display_data"
    }
   ],
   "source": [
    "# Check your answer (Run this code cell to receive credit!)\n",
    "step_7.b.solution()"
   ]
  },
  {
   "cell_type": "markdown",
   "id": "315c35e5",
   "metadata": {
    "papermill": {
     "duration": 0.010689,
     "end_time": "2023-12-13T06:55:07.349561",
     "exception": false,
     "start_time": "2023-12-13T06:55:07.338872",
     "status": "completed"
    },
    "tags": []
   },
   "source": [
    "## Keep going\n",
    "\n",
    "Explore **[histograms and density plots](https://www.kaggle.com/alexisbcook/distributions)**."
   ]
  },
  {
   "cell_type": "markdown",
   "id": "e3158e88",
   "metadata": {
    "papermill": {
     "duration": 0.010671,
     "end_time": "2023-12-13T06:55:07.371064",
     "exception": false,
     "start_time": "2023-12-13T06:55:07.360393",
     "status": "completed"
    },
    "tags": []
   },
   "source": [
    "---\n",
    "\n",
    "\n",
    "\n",
    "\n",
    "*Have questions or comments? Visit the [course discussion forum](https://www.kaggle.com/learn/data-visualization/discussion) to chat with other learners.*"
   ]
  }
 ],
 "metadata": {
  "kaggle": {
   "accelerator": "none",
   "dataSources": [
    {
     "datasetId": 116573,
     "sourceId": 3551030,
     "sourceType": "datasetVersion"
    }
   ],
   "isGpuEnabled": false,
   "isInternetEnabled": false,
   "language": "python",
   "sourceType": "notebook"
  },
  "kernelspec": {
   "display_name": "Python 3",
   "language": "python",
   "name": "python3"
  },
  "language_info": {
   "codemirror_mode": {
    "name": "ipython",
    "version": 3
   },
   "file_extension": ".py",
   "mimetype": "text/x-python",
   "name": "python",
   "nbconvert_exporter": "python",
   "pygments_lexer": "ipython3",
   "version": "3.10.12"
  },
  "papermill": {
   "default_parameters": {},
   "duration": 6.204731,
   "end_time": "2023-12-13T06:55:07.798978",
   "environment_variables": {},
   "exception": null,
   "input_path": "__notebook__.ipynb",
   "output_path": "__notebook__.ipynb",
   "parameters": {},
   "start_time": "2023-12-13T06:55:01.594247",
   "version": "2.4.0"
  }
 },
 "nbformat": 4,
 "nbformat_minor": 5
}
